{
  "nbformat": 4,
  "nbformat_minor": 0,
  "metadata": {
    "colab": {
      "name": "Leetcode.ipynb",
      "provenance": [],
      "collapsed_sections": [],
      "toc_visible": true,
      "include_colab_link": true
    },
    "kernelspec": {
      "name": "python3",
      "display_name": "Python 3"
    },
    "language_info": {
      "name": "python"
    }
  },
  "cells": [
    {
      "cell_type": "markdown",
      "metadata": {
        "id": "view-in-github",
        "colab_type": "text"
      },
      "source": [
        "<a href=\"https://colab.research.google.com/github/ashfarhangi/Data-Structures-and-Algorithms/blob/master/Leetcode-Problems.ipynb\" target=\"_parent\"><img src=\"https://colab.research.google.com/assets/colab-badge.svg\" alt=\"Open In Colab\"/></a>"
      ]
    },
    {
      "cell_type": "markdown",
      "source": [
        "\"All the top developers use while(True)\" - Blake Celestian"
      ],
      "metadata": {
        "id": "8Esx4z00taV-"
      }
    },
    {
      "cell_type": "markdown",
      "source": [
        "# New Section"
      ],
      "metadata": {
        "id": "urSNLoJoTe5H"
      }
    },
    {
      "cell_type": "markdown",
      "source": [
        "## 1 Two sum\n",
        "- https://leetcode.com/problems/two-sum/ "
      ],
      "metadata": {
        "id": "Y3BuKlEmmW2Q"
      }
    },
    {
      "cell_type": "code",
      "execution_count": null,
      "metadata": {
        "id": "Gt37LH9sl-tM",
        "colab": {
          "base_uri": "https://localhost:8080/"
        },
        "outputId": "e6b581b5-77fe-4c22-82ba-7c85a57c42c0"
      },
      "outputs": [
        {
          "output_type": "stream",
          "name": "stdout",
          "text": [
            "2 2\n",
            "5 2\n",
            "1\n"
          ]
        }
      ],
      "source": [
        "array = [2, 5, 2, -1, 7, 4, 6, 7, 4]\n",
        "target = 2\n",
        "## O(N^2) would be doing it every pair.\n",
        "\n",
        "## O(NlogN) would be sorting it first. \n",
        "array.sort()\n",
        "array\n",
        "i = 0\n",
        "j = len(array) - 1\n",
        "while i<=j:\n",
        "  sum = array[i] + array[j] \n",
        "  if sum < target:\n",
        "    i = i + 1\n",
        "  if sum > target:\n",
        "    j = j - 1\n",
        "  else:\n",
        "    print(str(array[i]),str(array[j]))\n",
        "    break\n",
        "\n",
        "'''Find the best answer if no answer exists'''\n",
        "array = [2, 5, 2, -1, 7, 4, 6, 7, 4]\n",
        "target = 2\n",
        "i = 0\n",
        "j = len(array) - 1\n",
        "while i<j:\n",
        "  sum = array[i] + array[j]\n",
        "  best = abs(sum - target)\n",
        "  while (array[i] +array[j] < target and i<j):\n",
        "    i = i + 1\n",
        "    sum = array[i] + array[j]\n",
        "    best = min(best,abs(sum-target))\n",
        "  j = j - 1\n",
        "i = 0\n",
        "j = len(array) - 1\n",
        "while i < j:\n",
        "  sum = array[i] + array[j]\n",
        "  best = min(best, abs(sum -target))\n",
        "  while (array[i] +array[j] > target  and i<j):\n",
        "    j = j - 1\n",
        "    sum = array[i] + array[j]\n",
        "    best = min(best, abs(sum -target))  \n",
        "  i = i + 1\n",
        "  \n",
        "print(array[j],array[i])\n",
        "print(best)"
      ]
    },
    {
      "cell_type": "markdown",
      "source": [
        "\n",
        "\n",
        "\n",
        "## 29 Divide to Integer"
      ],
      "metadata": {
        "id": "R1B8NHt61_Ur"
      }
    },
    {
      "cell_type": "code",
      "source": [
        "class Solution:\n",
        "    def overflow(self, k):\n",
        "      if (k > 2**31 - 1):\n",
        "            k = 2**31 - 1\n",
        "      if (k < -2**31):\n",
        "            k = 2**31 + 1\n",
        "      else:\n",
        "        return k               \n",
        "    def divide(self, dividend: int, divisor: int) -> int:\n",
        "        a = dividend\n",
        "        b = divisor\n",
        "        a_1 = dividend \n",
        "        k = 0\n",
        "        if ((a>=0 and b>0)):\n",
        "            while(a_1 >= 0):\n",
        "                a_1 = a_1 - b\n",
        "                k = k + 1\n",
        "            return self.overflow(k-1)\n",
        "        if ((a<0 and b<0)):\n",
        "            a = a * -1\n",
        "            b = b * -1\n",
        "            a_1 = a\n",
        "            while(a_1 >= 0):\n",
        "                a_1 = a_1 - b\n",
        "                k = k + 1\n",
        "            return self.overflow(k-1)    \n",
        "        if ((a<0 and b>0)):\n",
        "            while(a_1 <= 0):\n",
        "                a_1 = a_1 + b \n",
        "                k = k - 1  \n",
        "            return self.overflow(k+1)\n",
        "        if ((a>=0 and b<0)):\n",
        "            a = a * -1\n",
        "            b = b * -1\n",
        "            a_1 = a\n",
        "            while(a_1 <= 0):\n",
        "                a_1 = a_1 + b \n",
        "                k = k - 1  \n",
        "            return self.overflow(k+1)\n",
        "    "
      ],
      "metadata": {
        "id": "io0-j8V3xEnb"
      },
      "execution_count": null,
      "outputs": []
    },
    {
      "cell_type": "code",
      "source": [
        "b = Solution()\n",
        "b.divide(10,1)\n",
        "b.divide(-21462238,1)"
      ],
      "metadata": {
        "id": "9ldMN4Oo_dBR",
        "colab": {
          "base_uri": "https://localhost:8080/"
        },
        "outputId": "daa419ae-ac8f-475f-8dd9-9b47939a87d2"
      },
      "execution_count": null,
      "outputs": [
        {
          "output_type": "execute_result",
          "data": {
            "text/plain": [
              "-21462238"
            ]
          },
          "metadata": {},
          "execution_count": 10
        }
      ]
    },
    {
      "cell_type": "code",
      "source": [
        "%time\n",
        "b.divide(-214622388,1)  "
      ],
      "metadata": {
        "colab": {
          "base_uri": "https://localhost:8080/"
        },
        "id": "VaXgyn82-4vP",
        "outputId": "4d6a2d16-d6c6-4a34-cc25-537f1e4edfc7"
      },
      "execution_count": null,
      "outputs": [
        {
          "output_type": "stream",
          "name": "stdout",
          "text": [
            "CPU times: user 3 µs, sys: 1 µs, total: 4 µs\n",
            "Wall time: 5.25 µs\n"
          ]
        },
        {
          "output_type": "execute_result",
          "data": {
            "text/plain": [
              "-214622388"
            ]
          },
          "metadata": {},
          "execution_count": 11
        }
      ]
    },
    {
      "cell_type": "code",
      "source": [
        "-2147483648\n",
        "-1"
      ],
      "metadata": {
        "colab": {
          "base_uri": "https://localhost:8080/"
        },
        "id": "WFe3bYjK52Dc",
        "outputId": "ce64008a-082f-49da-d638-5993c7465214"
      },
      "execution_count": null,
      "outputs": [
        {
          "output_type": "execute_result",
          "data": {
            "text/plain": [
              "-1"
            ]
          },
          "metadata": {},
          "execution_count": 12
        }
      ]
    },
    {
      "cell_type": "code",
      "source": [
        "class Solution:\n",
        "    def divide(self, dividend: int, divisor: int) -> int:\n",
        "        a = dividend\n",
        "        b = divisor\n",
        "        if (a > 2**31):\n",
        "          \n",
        "          \n",
        "class Solution:\n",
        "    def divide(self, dividend: int, divisor: int) -> int:\n",
        "        a = dividend\n",
        "        b = divisor\n",
        "        if (a > 2**31):\n",
        "            a = 2**31 - 1 \n",
        "        if (a < 2**31):\n",
        "            a = 2**31 + 1             \n",
        "        a_1 = dividend \n",
        "        k = 0\n",
        "        if ((a>0 and b>0)):\n",
        "            while(a_1 >= 0):\n",
        "                a_1 = a_1 - b\n",
        "                k = k + 1\n",
        "            return (k-1)\n",
        "        if ((a<0 and b<0)):\n",
        "            a = a * -1\n",
        "            b = b * -1\n",
        "            a_1 = a\n",
        "            while(a_1 >= 0):\n",
        "                a_1 = a_1 - b\n",
        "                k = k + 1\n",
        "            return (k-1)    \n",
        "        if ((a<0 and b>0)):\n",
        "            while(a_1 <= 0):\n",
        "                a_1 = a_1 + b \n",
        "                k = k - 1  \n",
        "            return (k+1)\n",
        "        if ((a>0 and b<0)):\n",
        "            a = a * -1\n",
        "            b = b * -1\n",
        "            a_1 = a\n",
        "            while(a_1 <= 0):\n",
        "                a_1 = a_1 + b \n",
        "                k = k - 1  \n",
        "            return (k+1)\n",
        "\n",
        "            a = 2**31 - 1 \n",
        "        if (a < 2**31):\n",
        "            a = 2**31 + 1             \n",
        "        a_1 = dividend \n",
        "        k = 0\n",
        "        if ((a>0 and b>0)):\n",
        "            while(a_1 >= 0):\n",
        "                a_1 = a_1 - b\n",
        "                k = k + 1\n",
        "            print(k-1)\n",
        "        if ((a<0 and b<0)):\n",
        "            a = a * -1\n",
        "            b = b * -1\n",
        "            a_1 = a\n",
        "            while(a_1 >= 0):\n",
        "                a_1 = a_1 - b\n",
        "                k = k + 1\n",
        "            print(k-1)    \n",
        "        if ((a<0 and b>0)):\n",
        "            while(a_1 <= 0):\n",
        "                a_1 = a_1 + b \n",
        "                k = k - 1  \n",
        "            print(k+1)\n",
        "        if ((a>0 and b<0)):\n",
        "            a = a * -1\n",
        "            b = b * -1\n",
        "            a_1 = a\n",
        "            while(a_1 <= 0):\n",
        "                a_1 = a_1 + b \n",
        "                k = k - 1  \n",
        "            print(k+1)\n"
      ],
      "metadata": {
        "id": "ByOA3nve-1qt",
        "colab": {
          "base_uri": "https://localhost:8080/",
          "height": 135
        },
        "outputId": "499ed183-5308-4322-97e4-6d9a98bea5fd"
      },
      "execution_count": null,
      "outputs": [
        {
          "output_type": "error",
          "ename": "IndentationError",
          "evalue": "ignored",
          "traceback": [
            "\u001b[0;36m  File \u001b[0;32m\"<ipython-input-13-68cdbeca9daf>\"\u001b[0;36m, line \u001b[0;32m8\u001b[0m\n\u001b[0;31m    class Solution:\u001b[0m\n\u001b[0m                   ^\u001b[0m\n\u001b[0;31mIndentationError\u001b[0m\u001b[0;31m:\u001b[0m expected an indented block\n"
          ]
        }
      ]
    },
    {
      "cell_type": "code",
      "source": [
        "divide(7,3) "
      ],
      "metadata": {
        "id": "Yh4cQY2X4nPI"
      },
      "execution_count": null,
      "outputs": []
    },
    {
      "cell_type": "markdown",
      "source": [
        "## 13 Roman to Integer"
      ],
      "metadata": {
        "id": "U4NZnXNnXVO7"
      }
    },
    {
      "cell_type": "code",
      "source": [
        "s = \"MCMXCIV\""
      ],
      "metadata": {
        "id": "t1oFsrGJXm29"
      },
      "execution_count": null,
      "outputs": []
    },
    {
      "cell_type": "code",
      "source": [
        "class Solution:\n",
        "    roman_dic = dict({'I':1,'V':5,'X':10,'L':50,'C':100,'D':500,'M':1000})\n",
        "    def romanToInt(self, s: str) -> int:\n",
        "        sum = 0\n",
        "        for i in range(0,len(s) - 1):\n",
        "            if (i<len(s) - 1 and self.roman_dic[s[i]] < self.roman_dic[s[i+1]]):\n",
        "              sum = sum + -1 * self.roman_dic[s[i]]\n",
        "            else:\n",
        "              sum = sum + self.roman_dic[s[i]]\n",
        "        return sum + self.roman_dic[s[-1]]\n",
        "x = Solution()\n",
        "x.romanToInt(s)"
      ],
      "metadata": {
        "id": "sdjF_OYI8NmI"
      },
      "execution_count": null,
      "outputs": []
    },
    {
      "cell_type": "markdown",
      "source": [
        "solution"
      ],
      "metadata": {
        "id": "6FhIEAHsAH8z"
      }
    },
    {
      "cell_type": "code",
      "source": [
        "class Solution:\n",
        "  def romanToInt(self, s):\n",
        "    roman = {'M': 1000,'D': 500 ,'C': 100,'L': 50,'X': 10,'V': 5,'I': 1}\n",
        "    z = 0\n",
        "    for i in range(0, len(s) - 1):\n",
        "        if roman[s[i]] < roman[s[i+1]]:\n",
        "            z -= roman[s[i]]\n",
        "        else:\n",
        "            z += roman[s[i]]\n",
        "    return z + roman[s[-1]]\n",
        "x = Solution()\n",
        "x.romanToInt(s)    "
      ],
      "metadata": {
        "id": "ZCuVUx8n6wHF"
      },
      "execution_count": null,
      "outputs": []
    },
    {
      "cell_type": "markdown",
      "source": [
        "## 829 Number of Lines to write string"
      ],
      "metadata": {
        "id": "ehg_Wt1WDpT9"
      }
    },
    {
      "cell_type": "code",
      "source": [
        "widths = [10,10,10,10,10,10,10,10,10,10,10,10,10,10,10,10,10,10,10,10,10,10,10,10,10,10]\n",
        "letters = \"abcdefghijklmnopqrstuvwxyz\"\n",
        "widths = [4,10,10,10,10,10,10,10,10,10,10,10,10,10,10,10,10,10,10,10,10,10,10,10,10,10]\n",
        "letters = \"bbbcccdddaaa\"\n",
        "line = 100\n",
        "sum = 0\n",
        "num_lines = 1\n",
        "for i in range(len(letters)):\n",
        "  # if (sum + widths[ord(letters[i]) - ord('a')] >)\n",
        "  sum = sum + widths[ord(letters[i]) - ord('a')]\n",
        "  if (sum > 100):\n",
        "    num_lines = num_lines + 1\n",
        "    sum = widths[ord(letters[i]) - ord('a')]\n",
        "# num_lines = sum//line + 1\n",
        "num_char = sum\n",
        "print(num_lines)\n",
        "print(num_char)"
      ],
      "metadata": {
        "id": "rj0bDTjwDvz6"
      },
      "execution_count": null,
      "outputs": []
    },
    {
      "cell_type": "code",
      "source": [
        "ord('')"
      ],
      "metadata": {
        "id": "JukEVnVTJoUo"
      },
      "execution_count": null,
      "outputs": []
    },
    {
      "cell_type": "code",
      "source": [
        "class Solution:\n",
        "    def numberOfLines(self, widths: List[int], s: str) -> List[int]:\n",
        "      # widths = [10,10,10,10,10,10,10,10,10,10,10,10,10,10,10,10,10,10,10,10,10,10,10,10,10,10]\n",
        "      # letters = \"abcdefghijklmnopqrstuvwxyz\"\n",
        "      line = 100\n",
        "      sum = 0\n",
        "      for i in range(len(s)):\n",
        "        sum = sum + widths[i]\n",
        "      num_lines = sum//line + 1\n",
        "      num_char = line - ( (num_lines * line) - sum)\n",
        "      return([num_lines,num_char])\n",
        "        "
      ],
      "metadata": {
        "id": "va8o0VneD63Y"
      },
      "execution_count": null,
      "outputs": []
    },
    {
      "cell_type": "markdown",
      "source": [
        "## 2169 Count Operations to Obtain Zero"
      ],
      "metadata": {
        "id": "thTC19-W8muy"
      }
    },
    {
      "cell_type": "markdown",
      "source": [
        "You are given two non-negative integers num1 and num2.\n",
        "\n",
        "In one operation, if num1 >= num2, you must subtract num2 from num1, otherwise subtract num1 from num2.\n",
        "\n",
        "For example, if num1 = 5 and num2 = 4, subtract num2 from num1, thus obtaining num1 = 1 and num2 = 4. However, if num1 = 4 and num2 = 5, after one operation, num1 = 4 and num2 = 1.\n",
        "Return the number of operations required to make either num1 = 0 or num2 = 0.\n",
        "\n"
      ],
      "metadata": {
        "id": "tkSlffOU-PuH"
      }
    },
    {
      "cell_type": "code",
      "source": [
        "class Solution:\n",
        "    def countOperations(self, num1: int, num2: int) -> int:\n",
        "      z = 0\n",
        "      while(num1 > 0 and num2 >0):\n",
        "        \n",
        "        if (num1 > num2):\n",
        "          num1 = num1 - num2\n",
        "        else:\n",
        "          num2 = num2 - num1\n",
        "        z = z + 1  \n",
        "      return z "
      ],
      "metadata": {
        "id": "Uk7w_r7QGdO_"
      },
      "execution_count": null,
      "outputs": []
    },
    {
      "cell_type": "markdown",
      "source": [
        "## Hard 2170 Minimum Operations to Make the Array Alternating - Medium"
      ],
      "metadata": {
        "id": "MCele7AR-Zsb"
      }
    },
    {
      "cell_type": "markdown",
      "source": [
        "https://leetcode.com/problems/minimum-operations-to-make-the-array-alternating/discuss/1767132/Python-3-hashmap-solution-O(N)-no-sort-needed"
      ],
      "metadata": {
        "id": "oi-4cWMl66og"
      }
    },
    {
      "cell_type": "markdown",
      "source": [
        "You are given a 0-indexed array nums consisting of n positive integers.\n",
        "\n",
        "The array nums is called alternating if:\n",
        "\n",
        "nums[i - 2] == nums[i], where 2 <= i <= n - 1.\n",
        "nums[i - 1] != nums[i], where 1 <= i <= n - 1.\n",
        "In one operation, you can choose an index i and change nums[i] into any positive integer.\n",
        "\n",
        "Return the minimum number of operations required to make the array alternating.\n",
        "\n"
      ],
      "metadata": {
        "id": "VCbxCl5r-d08"
      }
    },
    {
      "cell_type": "code",
      "source": [
        "nums = [3,1,3,2,4,3]"
      ],
      "metadata": {
        "id": "WNK0o91Ggle_"
      },
      "execution_count": null,
      "outputs": []
    },
    {
      "cell_type": "code",
      "source": [
        "# len(nums) - odd[-1][0] - even[-1][0] remove \n",
        "class Solution:\n",
        "    def minimumOperations(self, nums: List[int]) -> int:\n",
        "        if len(nums) <= 1: return 0\n",
        "\n",
        "        even_dict = defaultdict(int)\n",
        "        odd_dict = defaultdict(int)\n",
        "        \n",
        "        for i in range(len(nums)):\n",
        "            if i % 2 == 0:\n",
        "                even_dict[nums[i]] += 1\n",
        "            else:\n",
        "                odd_dict[nums[i]] += 1\n",
        "        print(even_dict)\n",
        "        print(odd_dict)                          \n",
        "        odd = sorted(((v, k) for k, v in odd_dict.items()))\n",
        "        even = sorted(((v, k) for k, v in even_dict.items()))\n",
        "        print(odd)\n",
        "        print(even)\n",
        "        # if no repeat, then just choose the high freq\n",
        "        if odd[-1][1] != even[-1][1]: return len(nums) - odd[-1][0] - even[-1][0]\n",
        "        \n",
        "        # if have same values in both, then we have 2 scenarios to choose either.\n",
        "        # \n",
        "        # Either choose the \n",
        "        cand = len(nums) - odd[-1][0] - (even[-2][0] if len(even)>1 else 0)\n",
        "        cand1 = len(nums) - even[-1][0] - (odd[-2][0] if len(odd)>1 else 0)\n",
        "        \n",
        "        return min(cand, cand1)\n"
      ],
      "metadata": {
        "id": "gW1lpO-TjohD"
      },
      "execution_count": null,
      "outputs": []
    },
    {
      "cell_type": "code",
      "source": [
        "x = Solution()\n",
        "x.minimumOperations(nums)"
      ],
      "metadata": {
        "colab": {
          "base_uri": "https://localhost:8080/",
          "height": 315
        },
        "id": "PK_5pmwlgjcV",
        "outputId": "59b58d5e-ec1d-48fe-bee0-04aee3a23321"
      },
      "execution_count": null,
      "outputs": [
        {
          "output_type": "error",
          "ename": "TypeError",
          "evalue": "ignored",
          "traceback": [
            "\u001b[0;31m---------------------------------------------------------------------------\u001b[0m",
            "\u001b[0;31mTypeError\u001b[0m                                 Traceback (most recent call last)",
            "\u001b[0;32m<ipython-input-444-f46d08f576c5>\u001b[0m in \u001b[0;36m<module>\u001b[0;34m()\u001b[0m\n\u001b[1;32m      1\u001b[0m \u001b[0mx\u001b[0m \u001b[0;34m=\u001b[0m \u001b[0mSolution\u001b[0m\u001b[0;34m(\u001b[0m\u001b[0;34m)\u001b[0m\u001b[0;34m\u001b[0m\u001b[0;34m\u001b[0m\u001b[0m\n\u001b[0;32m----> 2\u001b[0;31m \u001b[0mx\u001b[0m\u001b[0;34m.\u001b[0m\u001b[0mminimumOperations\u001b[0m\u001b[0;34m(\u001b[0m\u001b[0mnums\u001b[0m\u001b[0;34m)\u001b[0m\u001b[0;34m\u001b[0m\u001b[0;34m\u001b[0m\u001b[0m\n\u001b[0m",
            "\u001b[0;32m<ipython-input-443-8cd8dba7a68c>\u001b[0m in \u001b[0;36mminimumOperations\u001b[0;34m(self, nums)\u001b[0m\n\u001b[1;32m      3\u001b[0m     \u001b[0;32mdef\u001b[0m \u001b[0mminimumOperations\u001b[0m\u001b[0;34m(\u001b[0m\u001b[0mself\u001b[0m\u001b[0;34m,\u001b[0m \u001b[0mnums\u001b[0m\u001b[0;34m:\u001b[0m \u001b[0mList\u001b[0m\u001b[0;34m[\u001b[0m\u001b[0mint\u001b[0m\u001b[0;34m]\u001b[0m\u001b[0;34m)\u001b[0m \u001b[0;34m->\u001b[0m \u001b[0mint\u001b[0m\u001b[0;34m:\u001b[0m\u001b[0;34m\u001b[0m\u001b[0;34m\u001b[0m\u001b[0m\n\u001b[1;32m      4\u001b[0m         \u001b[0;32mif\u001b[0m \u001b[0mlen\u001b[0m\u001b[0;34m(\u001b[0m\u001b[0mnums\u001b[0m\u001b[0;34m)\u001b[0m \u001b[0;34m<=\u001b[0m \u001b[0;36m1\u001b[0m\u001b[0;34m:\u001b[0m \u001b[0;32mreturn\u001b[0m \u001b[0;36m0\u001b[0m\u001b[0;34m\u001b[0m\u001b[0;34m\u001b[0m\u001b[0m\n\u001b[0;32m----> 5\u001b[0;31m         \u001b[0meven_dict\u001b[0m \u001b[0;34m=\u001b[0m \u001b[0mdict\u001b[0m\u001b[0;34m(\u001b[0m\u001b[0mint\u001b[0m\u001b[0;34m)\u001b[0m\u001b[0;34m\u001b[0m\u001b[0;34m\u001b[0m\u001b[0m\n\u001b[0m\u001b[1;32m      6\u001b[0m         \u001b[0modd_dict\u001b[0m \u001b[0;34m=\u001b[0m \u001b[0mdict\u001b[0m\u001b[0;34m(\u001b[0m\u001b[0mint\u001b[0m\u001b[0;34m)\u001b[0m\u001b[0;34m\u001b[0m\u001b[0;34m\u001b[0m\u001b[0m\n\u001b[1;32m      7\u001b[0m \u001b[0;34m\u001b[0m\u001b[0m\n",
            "\u001b[0;31mTypeError\u001b[0m: 'type' object is not iterable"
          ]
        }
      ]
    },
    {
      "cell_type": "code",
      "source": [
        "# My solution Find max, find second max, replace the ones that are not repeatble \n",
        "\n",
        "from typing import List\n",
        "\n",
        "class Solution:\n",
        "    def minimumOperations(self, nums: List[int]) -> int:\n",
        "      z = 0\n",
        "      nums_copy = nums.copy()\n",
        "      firstNum = max(set(nums_copy), key = nums_copy.count)\n",
        "      nums_copy = [value for value in nums_copy if value != firstNum]\n",
        "      secondNum = max(set(nums_copy), key = nums_copy.count)\n",
        "      two_freq = {firstNum:secondNum,secondNum:firstNum}\n",
        "      for j in range(len(nums)- 1):\n",
        "        if ((nums[j] == firstNum or nums[j] == secondNum) and nums[j] != nums[j+1]):\n",
        "              inter_num = nums[j]\n",
        "              continue\n",
        "        else:\n",
        "          if (nums[j] == nums[j+1]):\n",
        "            z = z + 1\n",
        "            pass\n",
        "          nums[j] = two_freq[inter_num]\n",
        "          inter_num = two_freq[inter_num]\n",
        "      if(nums[-1] == nums[-2]): \n",
        "          z = z + 1\n",
        "          nums[-1] = two_freq[nums[-2]]\n",
        "      return z, nums\n",
        "x = Solution()\n",
        "x.minimumOperations([3,1,3,2,4,3])        "
      ],
      "metadata": {
        "id": "9r6JcJgc8wYO",
        "colab": {
          "base_uri": "https://localhost:8080/"
        },
        "outputId": "22a0fbc6-40e4-49af-a73f-da3a140a1c6b"
      },
      "execution_count": null,
      "outputs": [
        {
          "output_type": "execute_result",
          "data": {
            "text/plain": [
              "(1, [3, 1, 3, 1, 3, 1])"
            ]
          },
          "metadata": {},
          "execution_count": 420
        }
      ]
    },
    {
      "cell_type": "code",
      "source": [
        "from collections import Counter, defaultdict"
      ],
      "metadata": {
        "id": "3Zlfa2_e6eyR"
      },
      "execution_count": null,
      "outputs": []
    },
    {
      "cell_type": "code",
      "source": [
        "# import Counter\n",
        "class Solution:\n",
        "    def minimumOperations(self, nums: List[int]) -> int:\n",
        "        pad = lambda x: x + [(None, 0)]*(2-len(x))\n",
        "        even = pad(Counter(nums[::2]).most_common(2))\n",
        "        odd = pad(Counter(nums[1::2]).most_common(2))\n",
        "        return len(nums) - (max(even[0][1] + odd[1][1], even[1][1] + odd[0][1]) if even[0][0] == odd[0][0] else even[0][1] + odd[0][1]), nums\n"
      ],
      "metadata": {
        "id": "aAgwnn7U6OqG"
      },
      "execution_count": null,
      "outputs": []
    },
    {
      "cell_type": "code",
      "source": [
        ""
      ],
      "metadata": {
        "id": "XlAStx4niHI_"
      },
      "execution_count": null,
      "outputs": []
    },
    {
      "cell_type": "code",
      "source": [
        "x = Solution()\n",
        "x.minimumOperations([3,1,3,2,4,3])  "
      ],
      "metadata": {
        "id": "9QMFcCE06Pn-",
        "colab": {
          "base_uri": "https://localhost:8080/"
        },
        "outputId": "c12de1e4-62e0-455f-fcbb-0f5d69a1138c"
      },
      "execution_count": null,
      "outputs": [
        {
          "output_type": "stream",
          "name": "stdout",
          "text": [
            "defaultdict(<class 'int'>, {3: 2, 4: 1})\n",
            "defaultdict(<class 'int'>, {1: 1, 2: 1, 3: 1})\n",
            "[(1, 1), (1, 2), (1, 3)]\n",
            "[(1, 4), (2, 3)]\n"
          ]
        },
        {
          "output_type": "execute_result",
          "data": {
            "text/plain": [
              "3"
            ]
          },
          "metadata": {},
          "execution_count": 438
        }
      ]
    },
    {
      "cell_type": "code",
      "source": [
        "b = [69,91,47,74,75,94,22,100,43,50,82,47,40,51,90,27,98,85,47,14,55,82,52,9,65,90,86,45,52,52,95,40,85,3,46,77,16,59,32,22,41,87,89,78,59,78,34,26,71,9,82,68,80,74,100,6,10,53,84,80,7,87,3,82,26,26,14,37,26,58,96,73,41,2,79,43,56,74,30,71,6,100,72,93,83,40,28,79,24]\n",
        "# b = [3,1,3,2,4,3]"
      ],
      "metadata": {
        "id": "cb5etF9B2xTm"
      },
      "execution_count": null,
      "outputs": []
    },
    {
      "cell_type": "code",
      "source": [
        "class Solution:\n",
        "    def minimumOperations(self, nums: List[int]) -> int:\n",
        "      z = 0\n",
        "      nums_copy = nums \n",
        "      firstNum = max(set(nums_copy), key = nums_copy.count)\n",
        "      nums_copy = [value for value in nums_copy if value != firstNum]\n",
        "      secondNum = max(set(nums_copy), key = nums_copy.count)\n",
        "      two_freq = {firstNum:secondNum, secondNum:firstNum}\n",
        "      last_inter_num =firstNum\n",
        "      for j in range(len(nums)- 1):\n",
        "        if (nums[j] != firstNum and nums[j] != secondNum):\n",
        "          inter_num = two_freq[last_inter_num]\n",
        "        elif ((nums[j] == firstNum or nums[j] == secondNum) and nums[j] != nums[j+1]):\n",
        "              inter_num = nums[j]\n",
        "              last_inter_num = inter_num\n",
        "              continue\n",
        "        else:\n",
        "          z = z + 1\n",
        "          nums[j] = two_freq[inter_num]\n",
        "          inter_num = two_freq[inter_num]\n",
        "      if(nums[-1] == nums[-2]): \n",
        "          z = z + 1\n",
        "          nums[-1] = two_freq[nums[-2]]\n",
        "      return nums\n",
        "x = Solution()\n",
        "x.minimumOperations(b)              "
      ],
      "metadata": {
        "id": "95r2rzCmJ_QQ"
      },
      "execution_count": null,
      "outputs": []
    },
    {
      "cell_type": "code",
      "source": [
        ""
      ],
      "metadata": {
        "id": "9YeXkL9jKPWE"
      },
      "execution_count": null,
      "outputs": []
    },
    {
      "cell_type": "code",
      "source": [
        "b = [3,1,3,2,4,3]\n",
        "c = max(set(b), key = b.count)\n",
        "b = [value for value in b if value != c]\n",
        "d = max(set(b), key = b.count)\n",
        "d"
      ],
      "metadata": {
        "id": "JCk_Ra2V_Msy"
      },
      "execution_count": null,
      "outputs": []
    },
    {
      "cell_type": "markdown",
      "source": [
        "# "
      ],
      "metadata": {
        "id": "daB-IAtLNbiV"
      }
    },
    {
      "cell_type": "markdown",
      "source": [
        "# String\n"
      ],
      "metadata": {
        "id": "fgSDpXtaAoTk"
      }
    },
    {
      "cell_type": "code",
      "source": [
        ""
      ],
      "metadata": {
        "id": "UvE8wpSeAuEY"
      },
      "execution_count": null,
      "outputs": []
    },
    {
      "cell_type": "markdown",
      "source": [
        "## *828 Count Unique Characters of All Substrings of a Given String\n",
        "https://leetcode.com/problems/count-unique-characters-of-all-substrings-of-a-given-string/"
      ],
      "metadata": {
        "id": "Ge3o9mp4FCP5"
      }
    },
    {
      "cell_type": "code",
      "source": [
        "class Solution:\n",
        "    def uniqueLetterString(self, s: str) -> int:\n",
        "        total_sum = 0\n",
        "        int freq[len(s)][26]\n",
        "        for j in range(len(s)):\n",
        "          for z in range(j, len(s)+1):\n",
        "            print(s[j:z]) \n",
        "        return total_sum"
      ],
      "metadata": {
        "id": "_Gzkqw2BCQXd"
      },
      "execution_count": null,
      "outputs": []
    },
    {
      "cell_type": "code",
      "source": [
        "freq =0 \n",
        "freq[len(s)][26]"
      ],
      "metadata": {
        "id": "N4JT0rc3In_y"
      },
      "execution_count": null,
      "outputs": []
    },
    {
      "cell_type": "code",
      "source": [
        "s = \"ABA\"\n",
        "x = Solution()\n",
        "x.uniqueLetterString(s)"
      ],
      "metadata": {
        "id": "AqiHbAsHFKSE"
      },
      "execution_count": null,
      "outputs": []
    },
    {
      "cell_type": "markdown",
      "source": [
        "## *667 Beautiful Arrangment II - Medium\n"
      ],
      "metadata": {
        "id": "_32oNdzAXnlE"
      }
    },
    {
      "cell_type": "code",
      "source": [
        "from typing import List\n",
        "class Solution:\n",
        "    def constructArray(self, n: int, k: int) -> List[int]:\n",
        "        pass"
      ],
      "metadata": {
        "id": "dmtDZ5gUX61h"
      },
      "execution_count": null,
      "outputs": []
    },
    {
      "cell_type": "markdown",
      "source": [
        "## 2194 Cells in a Range on an Excel Sheet - Easy 24m\n"
      ],
      "metadata": {
        "id": "B1DXNcazbisO"
      }
    },
    {
      "cell_type": "code",
      "source": [
        "s = \"A1:F1\""
      ],
      "metadata": {
        "id": "rbMJr8vEJRNe"
      },
      "execution_count": null,
      "outputs": []
    },
    {
      "cell_type": "code",
      "source": [
        "answerList = []\n",
        "first_arg = s.split(\":\")[0]\n",
        "first_column = first_arg[0]\n",
        "first_row = int(first_arg[1])\n",
        "second_arg = s.split(\":\")[1]\n",
        "second_column = second_arg[0]\n",
        "second_row = int(second_arg[1])\n",
        "inter_column = first_column\n",
        "while ord(inter_column) <= ord(second_column):\n",
        "  if (inter_column <= second_column):\n",
        "    for j in range(first_row, second_row +1):\n",
        "      answerList.append(str(inter_column) + str(j))\n",
        "    inter_column = chr(ord(inter_column) + 1)\n",
        "answerList"
      ],
      "metadata": {
        "id": "U8Lkg6TiH6vx",
        "colab": {
          "base_uri": "https://localhost:8080/"
        },
        "outputId": "7c65f11b-ca6a-40d7-ce98-893fdb41197c"
      },
      "execution_count": null,
      "outputs": [
        {
          "output_type": "execute_result",
          "data": {
            "text/plain": [
              "['A1', 'B1', 'C1', 'D1', 'E1', 'F1']"
            ]
          },
          "metadata": {},
          "execution_count": 126
        }
      ]
    },
    {
      "cell_type": "code",
      "source": [
        "inter_column"
      ],
      "metadata": {
        "id": "zkBRzd1YIts3",
        "colab": {
          "base_uri": "https://localhost:8080/",
          "height": 36
        },
        "outputId": "4de5b063-211b-474c-9e97-a4ed42c5faef"
      },
      "execution_count": null,
      "outputs": [
        {
          "output_type": "execute_result",
          "data": {
            "application/vnd.google.colaboratory.intrinsic+json": {
              "type": "string"
            },
            "text/plain": [
              "'G'"
            ]
          },
          "metadata": {},
          "execution_count": 127
        }
      ]
    },
    {
      "cell_type": "code",
      "source": [
        "class Solution:\n",
        "    def cellsInRange(self, s: str) -> List[str]:\n",
        "      answerList = []\n",
        "      first_arg = s.split(\":\")[0]\n",
        "      first_column = first_arg[0]\n",
        "      first_row = int(first_arg[1])\n",
        "      second_arg = s.split(\":\")[1]\n",
        "      second_column = second_arg[0]\n",
        "      second_row = int(second_arg[1])\n",
        "      inter_column = first_column\n",
        "      while ord(inter_column) <= ord(second_column):\n",
        "        if (inter_column <= second_column):\n",
        "          for j in range(first_row, second_row +1):\n",
        "            answerList.append(str(inter_column) + str(j))\n",
        "          inter_column = chr(ord(inter_column) + 1)\n",
        "      return answerList "
      ],
      "metadata": {
        "id": "-602ZhnMBid8"
      },
      "execution_count": null,
      "outputs": []
    },
    {
      "cell_type": "code",
      "source": [
        "s = \"K1:L2\"\n",
        "x = Solution()\n",
        "x.cellsInRange(s)\n"
      ],
      "metadata": {
        "id": "9eqJZVtGGJpv",
        "colab": {
          "base_uri": "https://localhost:8080/"
        },
        "outputId": "553f03d2-809d-4973-ca58-08f6416ce77b"
      },
      "execution_count": null,
      "outputs": [
        {
          "output_type": "execute_result",
          "data": {
            "text/plain": [
              "['K1', 'K2', 'L1', 'L2']"
            ]
          },
          "metadata": {},
          "execution_count": 129
        }
      ]
    },
    {
      "cell_type": "markdown",
      "source": [
        "## 🌱 2194 Append K Integers With Minimal Sum - medium - +1h not optimal"
      ],
      "metadata": {
        "id": "tJmhSbVYJp_s"
      }
    },
    {
      "cell_type": "code",
      "source": [
        "class Solution(object):\n",
        "    def minimalKSum(self, A, K):\n",
        "      # Sum all the values for k\n",
        "        ans = K * (K + 1) // 2\n",
        "        print(ans)\n",
        "        # Now lets look for ones that are higher than k  \n",
        "        level = K + 1\n",
        "        for x in sorted(set(A)):\n",
        "            if x < level:\n",
        "              # the reason is that including ones should be removed and new ones (higher than K must be added)\n",
        "                ans = ans + level - x\n",
        "                level += 1\n",
        "        return ans"
      ],
      "metadata": {
        "id": "fQi6l5Q9JrkE"
      },
      "execution_count": null,
      "outputs": []
    },
    {
      "cell_type": "code",
      "source": [
        "class Solution:\n",
        "    def minimalKSum(self, nums: List[int], k: int) -> int:\n",
        "        # total_sum = sum(nums)\n",
        "        k_sum = (k*(k+1)) // 2 \n",
        "        higher_than_k = k + 1\n",
        "        # nums.sort()\n",
        "        # for j in range(len(nums)): Doesnt work\n",
        "        for x in sorted(set(nums)):  \n",
        "            print(x)\n",
        "            if (x < higher_than_k):\n",
        "                k_sum = k_sum + higher_than_k - x\n",
        "                higher_than_k += 1\n",
        "        return k_sum"
      ],
      "metadata": {
        "id": "FHaBXvfaiZTw"
      },
      "execution_count": null,
      "outputs": []
    },
    {
      "cell_type": "code",
      "source": [
        "nums = [6049679,5303022,9148745,9067786,4245986,9346756,8081232,9336753,9040954,3074621,5273437,3093620,3975136,3897863,7955717,6901772,2138559,2439378,3858719,4204884,4573641,6550663,6177508,8031749,2483491,6645263,6438637,9261840,4756750,8576172,1595840,5184720,3910301,4458357,5557268,654405,9664478,7431308,64940,9367507,2489481,1737124,6691115,4918022,8110526,1482439,6552012,1072045,1848540,7916844,6080007,32144,3517302,9007326,2540045,5379620,1630573,2250078,680997,5436990,9270538,4178598,8268839,5213087,5367812,5375592,5703639,8951088,696856,2348182,9559168,9309320,7048165,6198843,5168265,175113,2362709,4711182,2402182,4299096,1530586,760944,4603711,6580522,6755622,1994123,2392559,7636162,6705789,6164832,6083581,2462207,9923829,7765873,9728595,7279731,2178144,967971,3837661,9433952,4696115,2789730,6019670,4084835,3343843,691177,4494803,7441349,9167310,4635683,2839745,9854787,4497255,4424579,9627332,2837150,5739199,2112566,6300064,8931599,2837070,8623320,85231,4311202,8110147,764768,224793,1355001,8660122,3367430,941086,7488199,6831004,1106508,7917040,4664820,2377737,631516,7960689,7698376,9840885,2400669,4040709,1074348,5701274,8471371,9978291,6177429,9714836,4255441,2951356,8738416,8002047,7967256,6849323,1658429,9702325,4514464,7440820,2706167,3715922,1589367,6446979,8169660,6711357,212889,617399,5621601,4312507,1448432,5879449,1346740,2314077,1201877,8469739,3079405,6330892,6408323,915822,5829015,3188748,3485561,106153,220442,9152630,9312652,4672415,3892683,8695453,1066544,6607582,8049718,1266539,3134295,4653998,2268875,2816238,4038718,4346629,2449717,6706272,3625779,9125331,4612548,7475954,8574795,5909997,6325319,8069322,9652017,8368320,2588491,1006288,4319776,3681652,2819038,9666197,5390244,5458151,2785672,2915528,8948326,8893261,6392391,8196167,1058124,1626605,7258563,374151,5777211,380730,9969350,5315655,4642701,4899243,1731279,203788,4421594,1935889,8721056,2084652,4929908,5187532,5208601,9442367,1849486,5734686,3331039,6416191,1816769,9632174,9626084,71286,3205083,561134,7794683,2731268,8928020,9304419,7764733,4647798,6594484,8584947,257228,5019204,9311090,8136790,4019288,3006264,5283556,8619851,4281242,7969215,109257,5462637,7756523,5603826,4120725,9089420,4445444,6794344,9725853,9149752,4561382,1259265,7436698,6433919,5301845,9438408,3214149,7237446,6572718,3565320,7543258,7631630,5655358,5537327,8210225,6227858,1394458,3195632,9167587,4760380,5898992,6264108,2340078,376819,923683,8222564,7771697,7696185,9641900,1902932,300827,7716986,572592,6751168,7967621,9106576,8510722,8448029,1315830,6029898,2906819,3871634,697475,1851757,3720202,9175178,8073455,6072240,7593683,2667517,9994804,683091,2837774,519070,8407325,4346607,1602101,5447056,5238698,1112203,1208563,7242375,7390534,2348333,9840761,8585788,5069362,4930798,8450883,3521367]\n",
        "k =7942263\n",
        "nums.sort()"
      ],
      "metadata": {
        "id": "d8rvd2ELSWSR"
      },
      "execution_count": null,
      "outputs": []
    },
    {
      "cell_type": "code",
      "source": [
        "# total_sum = sum(nums)\n",
        "unique_sum = 0\n",
        "nums.sort()\n",
        "k_done = 0\n",
        "start = 1\n",
        "for j in range(len(nums)):\n",
        "  for z in range(start ,nums[j]):\n",
        "    if (z not in nums):\n",
        "      k_done = k_done + 1\n",
        "      start = nums[j]\n",
        "      if (k_done <= k):\n",
        "        unique_sum = unique_sum + z\n",
        "      else:  \n",
        "        break\n",
        "      # total_sum = total_sum + z\n",
        "  if (k_done == k):  \n",
        "      break  \n",
        "for b in range(1,k-k_done+1):\n",
        "  unique_sum = unique_sum + nums[j] + b      \n",
        "unique_sum  "
      ],
      "metadata": {
        "id": "Jn_IdhxkKUE0",
        "colab": {
          "base_uri": "https://localhost:8080/"
        },
        "outputId": "5124e474-6d7d-48d1-d717-42db3d92659a"
      },
      "execution_count": null,
      "outputs": [
        {
          "output_type": "execute_result",
          "data": {
            "text/plain": [
              "31540845597929"
            ]
          },
          "metadata": {},
          "execution_count": 142
        }
      ]
    },
    {
      "cell_type": "code",
      "source": [
        "class Solution:\n",
        "    def minimalKSum(self, nums: List[int], k: int) -> int:\n",
        "        # total_sum = sum(nums)\n",
        "        unique_sum = 0\n",
        "        nums.sort()\n",
        "        k_done = 0\n",
        "        start = 1\n",
        "        for j in range(len(nums)):\n",
        "          for z in range(start ,nums[j]):\n",
        "            if (z not in nums):\n",
        "              k_done = k_done + 1\n",
        "              if (k_done <= k):\n",
        "                unique_sum = unique_sum + z\n",
        "              else:  \n",
        "                break\n",
        "          start = nums[j]\n",
        "          if (k_done == k):  \n",
        "              break  \n",
        "        for b in range(1,k-k_done+1):\n",
        "          unique_sum = unique_sum + nums[j] + b      \n",
        "        return unique_sum  "
      ],
      "metadata": {
        "id": "0R7ILU0dKB5N"
      },
      "execution_count": null,
      "outputs": []
    },
    {
      "cell_type": "code",
      "source": [
        "nums = [96,44,99,25,61,84,88,18,19,33,60,86,52,19,32,47,35,50,94,17,29,98,22,21,72,100,40,84]\n",
        "k = 35"
      ],
      "metadata": {
        "id": "TRVz_-nniin-"
      },
      "execution_count": null,
      "outputs": []
    },
    {
      "cell_type": "code",
      "source": [
        "nums = [1,4,25,10,25]\n",
        "nums = [5,6]\n",
        "nums.sort()\n",
        "k = 6"
      ],
      "metadata": {
        "id": "eFWLL1YFd4Ls"
      },
      "execution_count": null,
      "outputs": []
    },
    {
      "cell_type": "code",
      "source": [
        "x = Solution()\n",
        "x.minimalKSum(nums,k)"
      ],
      "metadata": {
        "id": "B-InhdbVKG_P",
        "colab": {
          "base_uri": "https://localhost:8080/"
        },
        "outputId": "92ec3e86-e8e0-4aa7-c6dc-b458e7783d3f"
      },
      "execution_count": null,
      "outputs": [
        {
          "output_type": "stream",
          "name": "stdout",
          "text": [
            "17\n",
            "18\n",
            "19\n",
            "21\n",
            "22\n",
            "25\n",
            "29\n",
            "32\n",
            "33\n",
            "35\n",
            "40\n",
            "44\n",
            "47\n",
            "50\n",
            "52\n",
            "60\n",
            "61\n",
            "72\n",
            "84\n",
            "86\n",
            "88\n",
            "94\n",
            "96\n",
            "98\n",
            "99\n",
            "100\n"
          ]
        },
        {
          "output_type": "execute_result",
          "data": {
            "text/plain": [
              "794"
            ]
          },
          "metadata": {},
          "execution_count": 191
        }
      ]
    },
    {
      "cell_type": "markdown",
      "source": [
        "# Arrays - Notes"
      ],
      "metadata": {
        "id": "XdgGJrvqRmrR"
      }
    },
    {
      "cell_type": "markdown",
      "source": [
        "- Try to use While (a condition) and go from last element to the first element\n",
        "- nums = list(set(nums)) does not manipulate the object but creates a new object. Such solutions wont work on leetcode. \n",
        "  - Violation of O(1) space"
      ],
      "metadata": {
        "id": "hwHCx1GVS0OD"
      }
    },
    {
      "cell_type": "markdown",
      "source": [
        "Once in a while, it is useful to swap the values of two variables. With conventional assignment statements, we have to use a temporary variable. For example, to swap a and b:\n",
        "\n",
        "```\n",
        "temp = a\n",
        "a = b\n",
        "b = temp\n",
        "```\n",
        "\n",
        "Tuple assignment solves this problem neatly:\n",
        "\n",
        "```\n",
        "(a, b) = (b, a)\n",
        "```"
      ],
      "metadata": {
        "id": "9tYI9jzbdKMM"
      }
    },
    {
      "cell_type": "code",
      "source": [
        "# Binary search DSA Book: Time Complexity: O(log(n)). Space Complexity: O(1)\n",
        "def binarySearchRecursive(numbersList, value, low = 0, high = -1):\n",
        "  if not numbersList: return -1\n",
        "  if(high == -1): high = len(numbersList)-1\n",
        "  if low == high:\n",
        "    if numbersList[low] == value: return low\n",
        "    else: return -1\n",
        "  mid = low + (high-low)//2\n",
        "  if numbersList[mid] > value: return binarySearchRecursive(numbersList, value, low, mid-1)\n",
        "  elif numbersList[mid] < value: return binarySearchRecursive(numbersList, value, mid+1, high)\n",
        "  else: return mid\n",
        "A = [534,246,933,127,277,321,454,565,220]\n",
        "print(binarySearchRecursive(A,277))\n",
        "\n",
        "def binarySearchIterative(numbersList, value):\n",
        "  low = 0\n",
        "  high = len(numbersList)-1\n",
        "  while low <= high:\n",
        "    mid = (low+high)//2\n",
        "    if numbersList[mid] > value: high = mid-1\n",
        "    elif numbersList[mid] < value: low = mid+1\n",
        "    else: return mid\n",
        "  return -1\n",
        "A = [534,246,933,127,277,321,454,565,220]\n",
        "print(bin12arySearchIterative(A,277))"
      ],
      "metadata": {
        "id": "x-SpozsS-6LD"
      },
      "execution_count": null,
      "outputs": []
    },
    {
      "cell_type": "markdown",
      "source": [
        "Python uses an algorithm called Timsort:\n",
        "\n",
        "Timsort is a hybrid sorting algorithm, derived from merge sort and insertion sort, designed to perform well on many kinds of real-world data. The algorithm finds subsets of the data that are already ordered, and uses the subsets to sort the data more efficiently. This\n",
        "\n",
        "- Worst complexity: n*log(n)\n",
        "- Average complexity: n*log(n)\n",
        "- Best complexity: n\n",
        "- Space complexity: n\n"
      ],
      "metadata": {
        "id": "-qyIFakbZUH6"
      }
    },
    {
      "cell_type": "markdown",
      "source": [
        "Counting sort when we know the values are between in a range of 1 to K:"
      ],
      "metadata": {
        "id": "Ep_Dfmx_WtjZ"
      }
    },
    {
      "cell_type": "code",
      "source": [
        "# Counting sort O(n) with O(n) space (intermediate) we know values are \n",
        "def countingSortInPlace(arr, k):\n",
        "  n = len(arr)\n",
        "  m = k + 1 # for counting 1 - k (range(k) does not count the last)\n",
        "  C = [0] * m # init with zeros\n",
        "  for a in arr:\n",
        "    C[a] += 1 \n",
        "  i = 0\n",
        "  for a in range(m): # going through the 1-K\n",
        "    for c in range(C[a]): # - emit 'count[a]' copies of 'a'\n",
        "      arr[i] = a\n",
        "      i += 1\n",
        "  return arr, C\n",
        "print(countingSortInPlace( [1, 4, 7, 2, 1, 3, 2, 1, 4, 2, 3, 2, 1], 7 ))  "
      ],
      "metadata": {
        "colab": {
          "base_uri": "https://localhost:8080/"
        },
        "id": "mnzFQzqhWcG2",
        "outputId": "80bded96-5cb5-484d-f4ac-19744d46e1e3"
      },
      "execution_count": null,
      "outputs": [
        {
          "output_type": "stream",
          "name": "stdout",
          "text": [
            "([1, 1, 1, 1, 2, 2, 2, 2, 3, 3, 4, 4, 7], [0, 4, 4, 2, 2, 0, 0, 1])\n"
          ]
        }
      ]
    },
    {
      "cell_type": "code",
      "source": [
        "# Average Improved Counting sort O(n) with O(n) space (intermediate) we know values are \n",
        "def countingSortInPlace(arr, k):\n",
        "  n = len(arr)\n",
        "  max_val, min_val = max(arr), min(arr)\n",
        "  m = max_val + 1 # for counting 1 - k (range(k) does not count the last)\n",
        "  C = [0] * m  # init with zeros\n",
        "  for a in arr:\n",
        "    C[a] += 1 \n",
        "  i = 0\n",
        "  for a in range(min_val,m): # going through the 1-K\n",
        "    for c in range(C[a]): # - emit 'count[a]' copies of 'a'\n",
        "      arr[i] = a\n",
        "      i += 1\n",
        "  return arr, C\n",
        "print(countingSortInPlace( [1, 4, 7, 2, 1, 3, 2, 1, 4, 2, 3, 2, 1], 7 ))  "
      ],
      "metadata": {
        "colab": {
          "base_uri": "https://localhost:8080/"
        },
        "id": "FelaShoUdlBq",
        "outputId": "9dac6ee4-7e89-49be-a7cc-b9af9105fcad"
      },
      "execution_count": null,
      "outputs": [
        {
          "output_type": "stream",
          "name": "stdout",
          "text": [
            "([1, 1, 1, 1, 2, 2, 2, 2, 3, 3, 4, 4, 7], [0, 4, 4, 2, 2, 0, 0, 1])\n"
          ]
        }
      ]
    },
    {
      "cell_type": "markdown",
      "source": [
        "# Arrays - Problems"
      ],
      "metadata": {
        "id": "eN1g1oYC-3Ia"
      }
    },
    {
      "cell_type": "markdown",
      "source": [
        "## 485 Max Consecutive Ones easy 5m\n"
      ],
      "metadata": {
        "id": "fsgLJK0rRnwM"
      }
    },
    {
      "cell_type": "code",
      "source": [
        "nums = [1,1,0,1,1,1]\n",
        "nums = [1,0,1,1,0,1]\n"
      ],
      "metadata": {
        "id": "ATdeqGHKR7tA"
      },
      "execution_count": null,
      "outputs": []
    },
    {
      "cell_type": "code",
      "source": [
        "length_inter = 0 \n",
        "length_max = 0\n",
        "for j in range(len(nums)):\n",
        "  if (nums[j] == 1):\n",
        "    length_inter = length_inter + 1\n",
        "    if (length_inter > length_max):\n",
        "      length_max = length_inter\n",
        "  else:\n",
        "    length_inter = 0 \n",
        "print(length_max)"
      ],
      "metadata": {
        "id": "gRlYejIcS8dI"
      },
      "execution_count": null,
      "outputs": []
    },
    {
      "cell_type": "code",
      "source": [
        "from typing import List \n",
        "class Solution:\n",
        "  def findMaxConsecutiveOnes(self, nums: List[int]) -> int:\n",
        "    length_inter = 0 \n",
        "    length_max = 0\n",
        "    for j in range(len(nums)):\n",
        "      if (nums[j] == 1):\n",
        "        length_inter = length_inter + 1\n",
        "        if (length_inter > length_max):\n",
        "          length_max = length_inter\n",
        "      else:\n",
        "        length_inter = 0 \n",
        "    return length_max"
      ],
      "metadata": {
        "id": "lxV8SVfCR_fY"
      },
      "execution_count": null,
      "outputs": []
    },
    {
      "cell_type": "code",
      "source": [
        "# max(ans, cnt can make the code lose one if statement) - Dicussion\n",
        "class Solution(object):\n",
        "    def findMaxConsecutiveOnes(self, nums):\n",
        "        cnt = 0\n",
        "        ans = 0\n",
        "        for num in nums:\n",
        "            if num == 1:\n",
        "                cnt += 1\n",
        "                ans = max(ans, cnt)\n",
        "            else:\n",
        "                cnt = 0\n",
        "        return ans\n"
      ],
      "metadata": {
        "id": "spcs3zmPT1o9"
      },
      "execution_count": null,
      "outputs": []
    },
    {
      "cell_type": "code",
      "source": [
        "x = Solution()\n",
        "x.findMaxConsecutiveOnes(nums)"
      ],
      "metadata": {
        "colab": {
          "base_uri": "https://localhost:8080/"
        },
        "id": "LIkzc3FnRuu7",
        "outputId": "779a689c-97d9-4000-de40-a726768c0b0a"
      },
      "execution_count": null,
      "outputs": [
        {
          "output_type": "execute_result",
          "data": {
            "text/plain": [
              "2"
            ]
          },
          "metadata": {},
          "execution_count": 44
        }
      ]
    },
    {
      "cell_type": "markdown",
      "source": [
        "## 1295 Find Numbers with Even Number of Digits easy 5m\n"
      ],
      "metadata": {
        "id": "WnUxqKKXUh2B"
      }
    },
    {
      "cell_type": "code",
      "source": [
        "from typing import List\n",
        "nums = [12,345,2,6,7896]\n",
        "class Solution:\n",
        "  def findNumbers(self, nums: List[int]) -> int:\n",
        "    ans = 0 \n",
        "    for j in range(len(nums)):\n",
        "      if (len(str(nums[j])) % 2 == 0):\n",
        "        ans = ans + 1\n",
        "    return ans\n"
      ],
      "metadata": {
        "id": "THkWUUAaUkS3"
      },
      "execution_count": null,
      "outputs": []
    },
    {
      "cell_type": "code",
      "source": [
        "# Fast\n",
        "class Solution:\n",
        "    def findNumbers(self, nums: List[int]) -> int:\n",
        "        return sum((len(str(i))) % 2 == 0 for i in nums)\n",
        "# sum is faster than len"
      ],
      "metadata": {
        "id": "TYXCHQl_WkUA"
      },
      "execution_count": null,
      "outputs": []
    },
    {
      "cell_type": "code",
      "source": [
        "# Divide my 10 (log(n))\n",
        "class Solution:\n",
        "    def findNumbers(self, nums: List[int]) -> int:\n",
        "        return sum(int(math.log10(n)) % 2 for n in nums) "
      ],
      "metadata": {
        "id": "EZzo-UlFWIpw"
      },
      "execution_count": null,
      "outputs": []
    },
    {
      "cell_type": "code",
      "source": [
        "x = Solution()\n",
        "x.findNumbers(nums)"
      ],
      "metadata": {
        "colab": {
          "base_uri": "https://localhost:8080/",
          "height": 281
        },
        "id": "roJpkLBBWm53",
        "outputId": "799295e8-e31e-49df-c5e9-f14acd6a9a79"
      },
      "execution_count": null,
      "outputs": [
        {
          "output_type": "error",
          "ename": "TypeError",
          "evalue": "ignored",
          "traceback": [
            "\u001b[0;31m---------------------------------------------------------------------------\u001b[0m",
            "\u001b[0;31mTypeError\u001b[0m                                 Traceback (most recent call last)",
            "\u001b[0;32m<ipython-input-72-d26fa7c64eaa>\u001b[0m in \u001b[0;36m<module>\u001b[0;34m()\u001b[0m\n\u001b[1;32m      1\u001b[0m \u001b[0mx\u001b[0m \u001b[0;34m=\u001b[0m \u001b[0mSolution\u001b[0m\u001b[0;34m(\u001b[0m\u001b[0;34m)\u001b[0m\u001b[0;34m\u001b[0m\u001b[0;34m\u001b[0m\u001b[0m\n\u001b[0;32m----> 2\u001b[0;31m \u001b[0mx\u001b[0m\u001b[0;34m.\u001b[0m\u001b[0mfindNumbers\u001b[0m\u001b[0;34m(\u001b[0m\u001b[0mnums\u001b[0m\u001b[0;34m)\u001b[0m\u001b[0;34m\u001b[0m\u001b[0;34m\u001b[0m\u001b[0m\n\u001b[0m",
            "\u001b[0;32m<ipython-input-71-8da8a62d2a7e>\u001b[0m in \u001b[0;36mfindNumbers\u001b[0;34m(self, nums)\u001b[0m\n\u001b[1;32m      2\u001b[0m \u001b[0;32mclass\u001b[0m \u001b[0mSolution\u001b[0m\u001b[0;34m:\u001b[0m\u001b[0;34m\u001b[0m\u001b[0;34m\u001b[0m\u001b[0m\n\u001b[1;32m      3\u001b[0m     \u001b[0;32mdef\u001b[0m \u001b[0mfindNumbers\u001b[0m\u001b[0;34m(\u001b[0m\u001b[0mself\u001b[0m\u001b[0;34m,\u001b[0m \u001b[0mnums\u001b[0m\u001b[0;34m:\u001b[0m \u001b[0mList\u001b[0m\u001b[0;34m[\u001b[0m\u001b[0mint\u001b[0m\u001b[0;34m]\u001b[0m\u001b[0;34m)\u001b[0m \u001b[0;34m->\u001b[0m \u001b[0mint\u001b[0m\u001b[0;34m:\u001b[0m\u001b[0;34m\u001b[0m\u001b[0;34m\u001b[0m\u001b[0m\n\u001b[0;32m----> 4\u001b[0;31m         \u001b[0;32mreturn\u001b[0m \u001b[0msum\u001b[0m\u001b[0;34m(\u001b[0m\u001b[0mint\u001b[0m\u001b[0;34m(\u001b[0m\u001b[0mmath\u001b[0m\u001b[0;34m.\u001b[0m\u001b[0mlog10\u001b[0m\u001b[0;34m(\u001b[0m\u001b[0mn\u001b[0m\u001b[0;34m)\u001b[0m\u001b[0;34m)\u001b[0m \u001b[0;34m%\u001b[0m \u001b[0;36m2\u001b[0m \u001b[0;32mfor\u001b[0m \u001b[0mn\u001b[0m \u001b[0;32min\u001b[0m \u001b[0mnums\u001b[0m\u001b[0;34m)\u001b[0m\u001b[0;34m\u001b[0m\u001b[0;34m\u001b[0m\u001b[0m\n\u001b[0m",
            "\u001b[0;31mTypeError\u001b[0m: 'int' object is not callable"
          ]
        }
      ]
    },
    {
      "cell_type": "markdown",
      "source": [
        "## 977 🌱 Squares of a Sorted Array easy 3m\n",
        " "
      ],
      "metadata": {
        "id": "s4kxfpoGXRoe"
      }
    },
    {
      "cell_type": "code",
      "source": [
        "nums = [-4,-1,0,3,10]"
      ],
      "metadata": {
        "id": "F6bd8kPAaR6q"
      },
      "execution_count": null,
      "outputs": []
    },
    {
      "cell_type": "code",
      "source": [
        "from typing import List\n",
        "class Solution:\n",
        "  def sortedSquares(self, nums: List[int]) -> List[int]:\n",
        "    for j in range(len(nums)):\n",
        "      nums[j] = nums[j] ** 2\n",
        "    nums.sort()\n",
        "    return nums   \n",
        "      "
      ],
      "metadata": {
        "id": "jMLuuKPTZU_S"
      },
      "execution_count": null,
      "outputs": []
    },
    {
      "cell_type": "code",
      "source": [
        "x = Solution()\n",
        "x.sortedSquares(nums)"
      ],
      "metadata": {
        "colab": {
          "base_uri": "https://localhost:8080/"
        },
        "id": "2Fs80Cn9X6XY",
        "outputId": "a81d176a-6217-4583-cf3d-95f7226b5745"
      },
      "execution_count": null,
      "outputs": [
        {
          "output_type": "execute_result",
          "data": {
            "text/plain": [
              "[0, 1, 81, 256, 10000]"
            ]
          },
          "metadata": {},
          "execution_count": 404
        }
      ]
    },
    {
      "cell_type": "code",
      "source": [
        "# Discussion\n",
        "class Solution:\n",
        "  def sortedSquares(self, A):\n",
        "      answer = [0] * len(A)\n",
        "      l, r = 0, len(A) - 1\n",
        "      while l <= r:\n",
        "          left, right = abs(A[l]), abs(A[r])\n",
        "          if left > right:\n",
        "              answer[r - l] = left * left\n",
        "              l += 1\n",
        "          else:\n",
        "              answer[r - l] = right * right\n",
        "              r -= 1\n",
        "      return answer"
      ],
      "metadata": {
        "id": "ruOu_SnGfTkJ"
      },
      "execution_count": null,
      "outputs": []
    },
    {
      "cell_type": "code",
      "source": [
        "from typing import List\n",
        "class Solution:\n",
        "  def sortedSquares(self, nums: List[int]) -> List[int]:\n",
        "    for j in range(len(nums)):\n",
        "      nums[j] = nums[j] ** 2\n",
        "    n = len(nums)\n",
        "    m = max(nums) + 1 # for counting 1 - k (range(k) does not count th\n",
        "    C = [0] * m # init with zeros\n",
        "    for a in nums:\n",
        "      C[a] += 1 \n",
        "    i = 0\n",
        "    for a in range(min(nums),m): # going through the 1-K\n",
        "      for c in range(C[a]): # - emit 'count[a]' copies of 'a'\n",
        "        nums[i] = a\n",
        "        i += 1\n",
        "    return nums"
      ],
      "metadata": {
        "id": "LGK71wxPeVoo"
      },
      "execution_count": null,
      "outputs": []
    },
    {
      "cell_type": "markdown",
      "source": [
        "## 1089 Duplicate Zeros Easy 20m (Insertion)\n"
      ],
      "metadata": {
        "id": "zh2Bdq8slwdL"
      }
    },
    {
      "cell_type": "code",
      "source": [
        "arr = [1,0,2,3,0,4,5,0]"
      ],
      "metadata": {
        "id": "HyTLvf3cn8qF"
      },
      "execution_count": null,
      "outputs": []
    },
    {
      "cell_type": "code",
      "source": [
        "# Dicussion Start from the back\n",
        "class Solution:\n",
        "    def duplicateZeros(self, arr: List[int]) -> None:\n",
        "        zeroes = arr.count(0)\n",
        "        n = len(arr)\n",
        "        for i in range(n-1, -1, -1):\n",
        "            if i + zeroes < n:\n",
        "                arr[i + zeroes] = arr[i]\n",
        "            if arr[i] == 0: \n",
        "                zeroes -= 1\n",
        "                if i + zeroes < n:\n",
        "                    arr[i + zeroes] = 0"
      ],
      "metadata": {
        "id": "eix2zyexqo6w"
      },
      "execution_count": null,
      "outputs": []
    },
    {
      "cell_type": "code",
      "source": [
        "from typing import List\n",
        "class Solution:\n",
        "    def duplicateZeros(self, arr: List[int]) -> None:\n",
        "      for j in range(len(arr)-1):\n",
        "        if (arr[j] == 0 and skip == 0):\n",
        "          arr.insert(j,0)\n",
        "          arr.pop(-1)\n",
        "          skip = 1\n",
        "        else:\n",
        "          skip = 0"
      ],
      "metadata": {
        "id": "EJRuTgvcl5zK"
      },
      "execution_count": null,
      "outputs": []
    },
    {
      "cell_type": "code",
      "source": [
        "x = Solution()\n",
        "x.duplicateZeros(arr)"
      ],
      "metadata": {
        "id": "bOD659GkomUT"
      },
      "execution_count": null,
      "outputs": []
    },
    {
      "cell_type": "code",
      "source": [
        "arr"
      ],
      "metadata": {
        "colab": {
          "base_uri": "https://localhost:8080/"
        },
        "id": "sS_HZfzrorVZ",
        "outputId": "59ea0f95-3b1f-4ea5-ff2d-8c1990ea9052"
      },
      "execution_count": null,
      "outputs": [
        {
          "output_type": "execute_result",
          "data": {
            "text/plain": [
              "[1, 0, 0, 2, 3, 0, 0, 4]"
            ]
          },
          "metadata": {},
          "execution_count": 57
        }
      ]
    },
    {
      "cell_type": "markdown",
      "source": [
        "## 88 Merge Sorted Array Easy - NA\n"
      ],
      "metadata": {
        "id": "cXjyaZDtuhHx"
      }
    },
    {
      "cell_type": "code",
      "source": [
        "merge(a, m, b, n)"
      ],
      "metadata": {
        "colab": {
          "base_uri": "https://localhost:8080/",
          "height": 172
        },
        "id": "t1nl4hfsqQ43",
        "outputId": "852bd328-6aea-4f00-defb-6f224c691f1f"
      },
      "execution_count": null,
      "outputs": [
        {
          "output_type": "error",
          "ename": "TypeError",
          "evalue": "ignored",
          "traceback": [
            "\u001b[0;31m---------------------------------------------------------------------------\u001b[0m",
            "\u001b[0;31mTypeError\u001b[0m                                 Traceback (most recent call last)",
            "\u001b[0;32m<ipython-input-30-0cbfcc9aa753>\u001b[0m in \u001b[0;36m<module>\u001b[0;34m()\u001b[0m\n\u001b[0;32m----> 1\u001b[0;31m \u001b[0mmerge\u001b[0m\u001b[0;34m(\u001b[0m\u001b[0ma\u001b[0m\u001b[0;34m,\u001b[0m \u001b[0mm\u001b[0m\u001b[0;34m,\u001b[0m \u001b[0mb\u001b[0m\u001b[0;34m,\u001b[0m \u001b[0mn\u001b[0m\u001b[0;34m)\u001b[0m\u001b[0;34m\u001b[0m\u001b[0;34m\u001b[0m\u001b[0m\n\u001b[0m",
            "\u001b[0;31mTypeError\u001b[0m: merge() missing 1 required positional argument: 'n'"
          ]
        }
      ]
    },
    {
      "cell_type": "code",
      "source": [
        "a = [1,2,3,0,0,0]\n",
        "n = 3\n",
        "b = [2,5,6]\n",
        "m = 3"
      ],
      "metadata": {
        "id": "wce6MwkduliW"
      },
      "execution_count": null,
      "outputs": []
    },
    {
      "cell_type": "code",
      "source": [
        "a = [4,1,6,0,0,0]\n",
        "n = 3\n",
        "b = [2,3,5]\n",
        "m = 3"
      ],
      "metadata": {
        "id": "TAlFk-MtqGRK"
      },
      "execution_count": null,
      "outputs": []
    },
    {
      "cell_type": "code",
      "source": [
        "class Solution:\n",
        "    def merge(self, nums1, m, nums2, n):\n",
        "        nums1[m:] = nums2[:n]\n",
        "        nums1.sort()"
      ],
      "metadata": {
        "id": "-I_OTDqhujbo"
      },
      "execution_count": null,
      "outputs": []
    },
    {
      "cell_type": "code",
      "source": [
        "x = Solution()\n",
        "x.merge(a, n, b, m)"
      ],
      "metadata": {
        "colab": {
          "base_uri": "https://localhost:8080/"
        },
        "id": "NjlJCOWTvJf8",
        "outputId": "259d43c2-c7ed-4af2-eeac-9f4704204840"
      },
      "execution_count": null,
      "outputs": [
        {
          "output_type": "execute_result",
          "data": {
            "text/plain": [
              "[1, 2, 3, 4, 5, 6]"
            ]
          },
          "metadata": {},
          "execution_count": 43
        }
      ]
    },
    {
      "cell_type": "code",
      "source": [
        "from typing import List\n",
        "class Solution:\n",
        "    def merge(self, a, n, b, m):\n",
        "      total_len = n + m \n",
        "      for j in range(total_len): \n",
        "        if (a[j]>=b[j]):\n",
        "          a.insert(j,b[j]) \n",
        "        else:\n",
        "          continue\n",
        "      return a"
      ],
      "metadata": {
        "id": "RPmwmLRrlo5e"
      },
      "execution_count": null,
      "outputs": []
    },
    {
      "cell_type": "code",
      "source": [
        "x = Solution()\n",
        "x.merge(a, n, b, m)"
      ],
      "metadata": {
        "colab": {
          "base_uri": "https://localhost:8080/",
          "height": 317
        },
        "id": "Z1-vNPKtltM4",
        "outputId": "2ea16ad1-9230-4da1-d056-f659c96391f7"
      },
      "execution_count": null,
      "outputs": [
        {
          "output_type": "error",
          "ename": "IndexError",
          "evalue": "ignored",
          "traceback": [
            "\u001b[0;31m---------------------------------------------------------------------------\u001b[0m",
            "\u001b[0;31mIndexError\u001b[0m                                Traceback (most recent call last)",
            "\u001b[0;32m<ipython-input-10-5af6aa3ca857>\u001b[0m in \u001b[0;36m<module>\u001b[0;34m()\u001b[0m\n\u001b[1;32m      1\u001b[0m \u001b[0mx\u001b[0m \u001b[0;34m=\u001b[0m \u001b[0mSolution\u001b[0m\u001b[0;34m(\u001b[0m\u001b[0;34m)\u001b[0m\u001b[0;34m\u001b[0m\u001b[0;34m\u001b[0m\u001b[0m\n\u001b[0;32m----> 2\u001b[0;31m \u001b[0mx\u001b[0m\u001b[0;34m.\u001b[0m\u001b[0mmerge\u001b[0m\u001b[0;34m(\u001b[0m\u001b[0ma\u001b[0m\u001b[0;34m,\u001b[0m \u001b[0mn\u001b[0m\u001b[0;34m,\u001b[0m \u001b[0mb\u001b[0m\u001b[0;34m,\u001b[0m \u001b[0mm\u001b[0m\u001b[0;34m)\u001b[0m\u001b[0;34m\u001b[0m\u001b[0;34m\u001b[0m\u001b[0m\n\u001b[0m",
            "\u001b[0;32m<ipython-input-9-acbcafffe8f8>\u001b[0m in \u001b[0;36mmerge\u001b[0;34m(self, a, n, b, m)\u001b[0m\n\u001b[1;32m      4\u001b[0m       \u001b[0mtotal_len\u001b[0m \u001b[0;34m=\u001b[0m \u001b[0mn\u001b[0m \u001b[0;34m+\u001b[0m \u001b[0mm\u001b[0m\u001b[0;34m\u001b[0m\u001b[0;34m\u001b[0m\u001b[0m\n\u001b[1;32m      5\u001b[0m       \u001b[0;32mfor\u001b[0m \u001b[0mj\u001b[0m \u001b[0;32min\u001b[0m \u001b[0mrange\u001b[0m\u001b[0;34m(\u001b[0m\u001b[0mtotal_len\u001b[0m\u001b[0;34m)\u001b[0m\u001b[0;34m:\u001b[0m\u001b[0;34m\u001b[0m\u001b[0;34m\u001b[0m\u001b[0m\n\u001b[0;32m----> 6\u001b[0;31m         \u001b[0;32mif\u001b[0m \u001b[0;34m(\u001b[0m\u001b[0ma\u001b[0m\u001b[0;34m[\u001b[0m\u001b[0mj\u001b[0m\u001b[0;34m]\u001b[0m\u001b[0;34m>=\u001b[0m\u001b[0mb\u001b[0m\u001b[0;34m[\u001b[0m\u001b[0mj\u001b[0m\u001b[0;34m]\u001b[0m\u001b[0;34m)\u001b[0m\u001b[0;34m:\u001b[0m\u001b[0;34m\u001b[0m\u001b[0;34m\u001b[0m\u001b[0m\n\u001b[0m\u001b[1;32m      7\u001b[0m           \u001b[0ma\u001b[0m\u001b[0;34m.\u001b[0m\u001b[0minsert\u001b[0m\u001b[0;34m(\u001b[0m\u001b[0mj\u001b[0m\u001b[0;34m,\u001b[0m\u001b[0mb\u001b[0m\u001b[0;34m[\u001b[0m\u001b[0mj\u001b[0m\u001b[0;34m]\u001b[0m\u001b[0;34m)\u001b[0m\u001b[0;34m\u001b[0m\u001b[0;34m\u001b[0m\u001b[0m\n\u001b[1;32m      8\u001b[0m         \u001b[0;32melse\u001b[0m\u001b[0;34m:\u001b[0m\u001b[0;34m\u001b[0m\u001b[0;34m\u001b[0m\u001b[0m\n",
            "\u001b[0;31mIndexError\u001b[0m: list index out of range"
          ]
        }
      ]
    },
    {
      "cell_type": "markdown",
      "source": [
        "## 27 Remove Element Easy - 12m\n"
      ],
      "metadata": {
        "id": "9ue33d9MPfDe"
      }
    },
    {
      "cell_type": "code",
      "source": [
        "nums = [3,2,2,3]; val = 3\n",
        "m = len(nums)"
      ],
      "metadata": {
        "id": "STTPCbkKPo6a"
      },
      "execution_count": null,
      "outputs": []
    },
    {
      "cell_type": "code",
      "source": [
        "from typing import List\n",
        "class Solution:\n",
        "    def removeElement(self, nums, val):\n",
        "      m = len(nums)\n",
        "      while m>0:\n",
        "        if(nums[m-1]==val):\n",
        "          nums.pop(m-1)\n",
        "          # val-=1\n",
        "        m-=1\n",
        "      return len(nums),nums"
      ],
      "metadata": {
        "id": "Evql3B2oPed3"
      },
      "execution_count": null,
      "outputs": []
    },
    {
      "cell_type": "code",
      "source": [
        "x = Solution()\n",
        "x.removeElement(nums,val)"
      ],
      "metadata": {
        "colab": {
          "base_uri": "https://localhost:8080/"
        },
        "id": "kkUVenAIPj24",
        "outputId": "38e63d36-7b2b-4eb8-e97d-e9a7b9a09c1d"
      },
      "execution_count": null,
      "outputs": [
        {
          "output_type": "execute_result",
          "data": {
            "text/plain": [
              "(2, [2, 2])"
            ]
          },
          "metadata": {},
          "execution_count": 78
        }
      ]
    },
    {
      "cell_type": "markdown",
      "source": [
        "## 29 Remove Duplicates from Sorted Array - Easy\n",
        "\n"
      ],
      "metadata": {
        "id": "hmiXWfucTPjP"
      }
    },
    {
      "cell_type": "code",
      "source": [
        "arr = [1,1,2]"
      ],
      "metadata": {
        "id": "joSrkF0DQvtl"
      },
      "execution_count": null,
      "outputs": []
    },
    {
      "cell_type": "code",
      "source": [
        "from typing import List\n",
        "class Solution:\n",
        "    def main(self, arr):\n",
        "      m = len(arr)\n",
        "      while m>0: \n",
        "        if(arr[m-2]==arr[m-1]):\n",
        "          arr.pop(m-1)\n",
        "        m-=1\n",
        "      return arr  "
      ],
      "metadata": {
        "id": "GFomtRnKXbhQ"
      },
      "execution_count": null,
      "outputs": []
    },
    {
      "cell_type": "code",
      "source": [
        "x = Solution()\n",
        "x.main(arr)"
      ],
      "metadata": {
        "id": "Np2mhlLoX8qd",
        "outputId": "58ee1571-bdeb-4ddd-c316-8576cd8ef9e4",
        "colab": {
          "base_uri": "https://localhost:8080/"
        }
      },
      "execution_count": null,
      "outputs": [
        {
          "output_type": "execute_result",
          "data": {
            "text/plain": [
              "[1, 2]"
            ]
          },
          "metadata": {},
          "execution_count": 100
        }
      ]
    },
    {
      "cell_type": "code",
      "source": [
        "from typing import List\n",
        "class Solution:\n",
        "    def main(self, arr):\n",
        "      k = 0\n",
        "      m = len(arr)\n",
        "      arr_set = set(arr)\n",
        "      # while m>0:\n",
        "      #   if(arr[m-1] is in )\n",
        "      return len(arr_set),list(arr_set)"
      ],
      "metadata": {
        "id": "L-Prl0PjTrPl"
      },
      "execution_count": null,
      "outputs": []
    },
    {
      "cell_type": "markdown",
      "source": [
        "## 1346 Check If N and Its Double Exist Easy - 10m\n"
      ],
      "metadata": {
        "id": "pfW5xwbykkV4"
      }
    },
    {
      "cell_type": "code",
      "source": [
        "arr = [10,2,5,3]\n"
      ],
      "metadata": {
        "id": "1ldxe_gdUVAm"
      },
      "execution_count": null,
      "outputs": []
    },
    {
      "cell_type": "code",
      "source": [
        "# Discussion - O(n)q\n",
        "class Solution:\n",
        "  def checkIfExist(self, arr: List[int]) -> bool:\n",
        "          seen = set()\n",
        "          for n in arr:\n",
        "              if 2*n in seen or n%2==0 and n//q \n"
      ],
      "metadata": {
        "id": "SDaCyMfknGI4"
      },
      "execution_count": null,
      "outputs": []
    },
    {
      "cell_type": "code",
      "source": [
        "from typing import List\n",
        "class Solution:\n",
        "    def checkIfExist(self, arr):\n",
        "      m = len(arr)\n",
        "      while m > 0:\n",
        "        j = m - 1\n",
        "        while j > 0:\n",
        "          if (arr[m-1] == arr[j-1] * 2 or arr[m-1] * 2 == arr[j-1]):\n",
        "            return True\n",
        "          j -= 1\n",
        "        m -= 1\n",
        "      return False"
      ],
      "metadata": {
        "id": "qfr20SFzkxtC"
      },
      "execution_count": null,
      "outputs": []
    },
    {
      "cell_type": "code",
      "source": [
        "x = Solution()\n",
        "x.checkIfExist(arr)"
      ],
      "metadata": {
        "colab": {
          "base_uri": "https://localhost:8080/"
        },
        "id": "sW0fKEw3kx7Z",
        "outputId": "086c3fdb-dac3-473f-93ba-27d49a899e8c"
      },
      "execution_count": null,
      "outputs": [
        {
          "output_type": "execute_result",
          "data": {
            "text/plain": [
              "True"
            ]
          },
          "metadata": {},
          "execution_count": 20
        }
      ]
    },
    {
      "cell_type": "markdown",
      "source": [
        "## 941 Valid Mountain Array - Easy 15m Love\n"
      ],
      "metadata": {
        "id": "ifqrUNHOQ-5H"
      }
    },
    {
      "cell_type": "code",
      "source": [
        "arr = [0,1,3,2,1]\n",
        "arr = [2,1]\n",
        "arr = [3,5,5]\n",
        "arr = [0,1,2,3,4,5,6,7,8,9]"
      ],
      "metadata": {
        "id": "AtH1DcKT9CJO"
      },
      "execution_count": null,
      "outputs": []
    },
    {
      "cell_type": "code",
      "source": [
        "# Bruteforce - Find the max, O(n), go through the list forward and backward (O(3n))\n",
        "class Solution:\n",
        "    def validMountainArray(self, arr):\n",
        "      m = len(arr)\n",
        "      if (m<3):\n",
        "        return False      \n",
        "      max_value = max(arr)\n",
        "      max_index = arr.index(max_value)\n",
        "      if (max_index == m-1 or max_index == 0):\n",
        "        return False\n",
        "      while m-1 > max_index:\n",
        "        if (arr[m-2] <= arr[m-1]):\n",
        "          return False\n",
        "        m -= 1\n",
        "      m = 0            \n",
        "      while m < max_index:\n",
        "        if (arr[m] >= arr[m+1]):\n",
        "          return False\n",
        "        m += 1              \n",
        "      return True"
      ],
      "metadata": {
        "id": "pGjjCXMFRDZS"
      },
      "execution_count": null,
      "outputs": []
    },
    {
      "cell_type": "code",
      "source": [
        "x = Solution()\n",
        "x.validMountainArray(arr)"
      ],
      "metadata": {
        "colab": {
          "base_uri": "https://localhost:8080/"
        },
        "id": "JTTAxRAdRDl5",
        "outputId": "d82675b2-b4a7-4e03-a400-f382d96b0a04"
      },
      "execution_count": null,
      "outputs": [
        {
          "output_type": "execute_result",
          "data": {
            "text/plain": [
              "False"
            ]
          },
          "metadata": {},
          "execution_count": 62
        }
      ]
    },
    {
      "cell_type": "markdown",
      "source": [
        "## 1299 Replace Elements with Greatest Element on Right Side\n"
      ],
      "metadata": {
        "id": "ZnRQymr4YsDM"
      }
    },
    {
      "cell_type": "code",
      "source": [
        "arr = [17,18,5,4,6,1]"
      ],
      "metadata": {
        "id": "m1-puUwhYzuf"
      },
      "execution_count": null,
      "outputs": []
    },
    {
      "cell_type": "code",
      "source": [
        "# Disscussion just replace the values from right to left\n",
        "class Solution:\n",
        "    def replaceElements(self, arr):\n",
        "      mx = -1\n",
        "      m = len(arr)\n",
        "      while m >0:\n",
        "        (arr[m-1],mx) = (mx, max(arr[m-1],mx))\n",
        "        m -= 1\n",
        "      return arr"
      ],
      "metadata": {
        "id": "8u9trbcLeWB5"
      },
      "execution_count": null,
      "outputs": []
    },
    {
      "cell_type": "code",
      "source": [
        "class Solution:\n",
        "    def replaceElements(self, arr):\n",
        "      m = len(arr)\n",
        "      if(m<2):\n",
        "        return -1\n",
        "      for j in range(len(arr)-1):\n",
        "        max_value = max(arr[j+1:m])\n",
        "        arr[j] = max_value\n",
        "      arr[m-1] = -1\n",
        "      return arr"
      ],
      "metadata": {
        "id": "uBHNjWNeY27E"
      },
      "execution_count": null,
      "outputs": []
    },
    {
      "cell_type": "code",
      "source": [
        "class Solution:\n",
        "    def replaceElements(self, arr):\n",
        "      m = len(arr)\n",
        "      if(m<2):\n",
        "        return [-1]\n",
        "      while j<len(arr)-1:\n",
        "        max_value = max(arr[j+1:m])\n",
        "        arr[j] = max_value\n",
        "        j +=1\n",
        "      arr[m-1] = -1\n",
        "      return arr"
      ],
      "metadata": {
        "id": "gbRilS5zbk0p"
      },
      "execution_count": null,
      "outputs": []
    },
    {
      "cell_type": "code",
      "source": [
        "class Solution:\n",
        "  def replaceElements(self, arr: List[int]) -> List[int]:\n",
        "         mx = -1\n",
        "         for i in range(len(arr) - 1, -1, -1):\n",
        "             arr[i], mx = mx, max(arr[i], mx)\n",
        "         return arr"
      ],
      "metadata": {
        "id": "x29qXZDtctdP"
      },
      "execution_count": null,
      "outputs": []
    },
    {
      "cell_type": "code",
      "source": [
        "max(1,-1)"
      ],
      "metadata": {
        "colab": {
          "base_uri": "https://localhost:8080/"
        },
        "id": "JXDd8tymdfLh",
        "outputId": "863b04d5-d767-4104-e5ab-329bab32d0f6"
      },
      "execution_count": null,
      "outputs": [
        {
          "output_type": "execute_result",
          "data": {
            "text/plain": [
              "1"
            ]
          },
          "metadata": {},
          "execution_count": 144
        }
      ]
    },
    {
      "cell_type": "code",
      "source": [
        "x = Solution()\n",
        "x.replaceElements(arr)"
      ],
      "metadata": {
        "colab": {
          "base_uri": "https://localhost:8080/"
        },
        "id": "oH-K8vyhY3xX",
        "outputId": "19a23640-1f0a-4358-e4fa-0a5ff550bd35"
      },
      "execution_count": null,
      "outputs": [
        {
          "output_type": "execute_result",
          "data": {
            "text/plain": [
              "[18, 6, 6, 6, 1, -1]"
            ]
          },
          "metadata": {},
          "execution_count": 142
        }
      ]
    },
    {
      "cell_type": "code",
      "source": [
        "heights = [1,1,4,2,1,3]\n",
        "sorted(heights)"
      ],
      "metadata": {
        "colab": {
          "base_uri": "https://localhost:8080/"
        },
        "id": "bylnjON4SPkk",
        "outputId": "f0941f72-4e38-45e8-9cad-68a36e24ab51"
      },
      "execution_count": null,
      "outputs": [
        {
          "output_type": "execute_result",
          "data": {
            "text/plain": [
              "[1, 1, 4, 2, 1, 3]"
            ]
          },
          "metadata": {},
          "execution_count": 5
        }
      ]
    },
    {
      "cell_type": "markdown",
      "source": [
        "## 1051 🌱 Height Checker - Easy - Counting Sort\n"
      ],
      "metadata": {
        "id": "INY6hEMZVf1W"
      }
    },
    {
      "cell_type": "code",
      "source": [
        "arr = [1,1,4,2,1,3] \n",
        "heights = [1,1,4,2,1,3]"
      ],
      "metadata": {
        "id": "D-bJMoqhaI1o"
      },
      "execution_count": null,
      "outputs": []
    },
    {
      "cell_type": "code",
      "source": [
        "# My solution Count Sort\n",
        "from typing import List\n",
        "class Solution:\n",
        "    def heightChecker(self, heights: List[int]) -> int:\n",
        "      n = len(heights)\n",
        "      max_val = max(heights)\n",
        "      min_val = min(heights)\n",
        "      output = 0\n",
        "      m = max_val + 1 # for counting 1 - k (range(k) does not count the last)\n",
        "      C = [0] * m # init with zeros\n",
        "      for a in heights:\n",
        "        C[a] += 1 \n",
        "      i = 0\n",
        "      for a in range(min_val,m): # going through the 1-k\n",
        "        for c in range(C[a]): # - emit 'count[a]' copies of 'a'\n",
        "          if(heights[i] != a):\n",
        "            output += 1\n",
        "          i += 1\n",
        "      return output"
      ],
      "metadata": {
        "id": "nGR6G8Aicwzp"
      },
      "execution_count": null,
      "outputs": []
    },
    {
      "cell_type": "code",
      "source": [
        "%time\n",
        "x = Solution()\n",
        "x.heightChecker(arr)"
      ],
      "metadata": {
        "colab": {
          "base_uri": "https://localhost:8080/"
        },
        "id": "eZBo8UgtaoDK",
        "outputId": "27c72f00-0c2d-4764-cbe1-d2828f83563d"
      },
      "execution_count": null,
      "outputs": [
        {
          "output_type": "stream",
          "name": "stdout",
          "text": [
            "CPU times: user 2 µs, sys: 0 ns, total: 2 µs\n",
            "Wall time: 5.01 µs\n"
          ]
        },
        {
          "output_type": "execute_result",
          "data": {
            "text/plain": [
              "3"
            ]
          },
          "metadata": {},
          "execution_count": 76
        }
      ]
    },
    {
      "cell_type": "code",
      "source": [
        "# My solution 50%\n",
        "class Solution:\n",
        "    def heightChecker(self, heights: List[int]) -> int:\n",
        "      m = len(heights)\n",
        "      output = 0\n",
        "      heights_sorted = sorted(heights)\n",
        "      if (heights_sorted == heights):\n",
        "        return 0\n",
        "      else:\n",
        "        while m>0:\n",
        "          if(heights_sorted[m-1] != heights[m-1]):\n",
        "            output += 1\n",
        "          m -= 1\n",
        "      return output"
      ],
      "metadata": {
        "id": "DUhctevYaebt"
      },
      "execution_count": null,
      "outputs": []
    },
    {
      "cell_type": "code",
      "source": [
        ""
      ],
      "metadata": {
        "colab": {
          "base_uri": "https://localhost:8080/"
        },
        "id": "Fn7gOiZKaE5S",
        "outputId": "eda9d310-9c63-4e11-b9b5-0df9d86e80f5"
      },
      "execution_count": null,
      "outputs": [
        {
          "output_type": "execute_result",
          "data": {
            "text/plain": [
              "6"
            ]
          },
          "metadata": {},
          "execution_count": 34
        }
      ]
    },
    {
      "cell_type": "markdown",
      "source": [
        "## 🌱 414 Third Maximum Number\n"
      ],
      "metadata": {
        "id": "lwWex_4CNSw_"
      }
    },
    {
      "cell_type": "code",
      "source": [
        "nums = [3,2,2,1]\n",
        "nums"
      ],
      "metadata": {
        "colab": {
          "base_uri": "https://localhost:8080/"
        },
        "id": "dEUhCogmM8Y5",
        "outputId": "b1f353f4-fd37-49c5-c3e2-2a638ba76c91"
      },
      "execution_count": null,
      "outputs": [
        {
          "output_type": "execute_result",
          "data": {
            "text/plain": [
              "[3, 2, 2, 1]"
            ]
          },
          "metadata": {},
          "execution_count": 163
        }
      ]
    },
    {
      "cell_type": "code",
      "source": [
        "# Discussion\n",
        "class Solution:\n",
        "    def thirdMax(self, arr):\n",
        "        a = b = c = -float('inf')\n",
        "        for n in arr:\n",
        "          if n in (a, b, c): continue # or if num not in :\n",
        "          if n > a: n , a = a , n\n",
        "          if n > b: n , b = b , n\n",
        "          if n > c: n , c = c , n\n",
        "        return c"
      ],
      "metadata": {
        "id": "0VhWErt0SOb5"
      },
      "execution_count": null,
      "outputs": []
    },
    {
      "cell_type": "code",
      "source": [
        "# My solution time: O(3n) space complexity O(n)\n",
        "class Solution:\n",
        "    def thirdMax(self, arr):\n",
        "      m = 2\n",
        "      ans = max(arr)\n",
        "      arr = list(set(arr))\n",
        "      if(len(arr)<3):\n",
        "        return ans\n",
        "      while m > 0:\n",
        "        arr.remove(ans)\n",
        "        ans = max(arr)\n",
        "        m -= 1\n",
        "      return ans"
      ],
      "metadata": {
        "id": "ALQDhIQNM6yf"
      },
      "execution_count": null,
      "outputs": []
    },
    {
      "cell_type": "code",
      "source": [
        "# O(n), O(1)\n",
        "    def thirdMax(self, nums):\n",
        "        a = b = c = -float(\"inf\")\n",
        "        for n in nums:\n",
        "            if n in (a, b, c): continue\n",
        "            if n > a: n, a = a, n\n",
        "            if n > b: n, b = b, n\n",
        "            if n > c: n, c = c, n\n",
        "        return a if c == -float(\"inf\") else c\n"
      ],
      "metadata": {
        "id": "MmRvESB_R7SP"
      },
      "execution_count": null,
      "outputs": []
    },
    {
      "cell_type": "code",
      "source": [
        "x = Solution()\n",
        "x.thirdMax(nums)"
      ],
      "metadata": {
        "id": "wk2fGr5dM7n2"
      },
      "execution_count": null,
      "outputs": []
    },
    {
      "cell_type": "markdown",
      "source": [
        "## 448 🌱 Find All Numbers Disappeared in an Array\n"
      ],
      "metadata": {
        "id": "laAXnWdqUEmF"
      }
    },
    {
      "cell_type": "code",
      "source": [
        "nums = [4,3,2,7,8,2,3,1]\n"
      ],
      "metadata": {
        "id": "MVbHlQwQUF_f"
      },
      "execution_count": null,
      "outputs": []
    },
    {
      "cell_type": "code",
      "source": [
        "# Disuccion - make the values negative if exists then only show the ones that are left and are positive.\n",
        "class Solution:\n",
        "    def findDisappearedNumbers(self, nums):\n",
        "        for i in range(len(nums)):\n",
        "            index = abs(nums[i]) - 1\n",
        "            nums[index] = - abs(nums[index])\n",
        "        return [i + 1 for i in range(len(nums)) if nums[i] > 0]\n"
      ],
      "metadata": {
        "id": "aELEuZcpUHpv"
      },
      "execution_count": null,
      "outputs": []
    },
    {
      "cell_type": "code",
      "source": [
        "x = Solution()\n",
        "x.findDisappearedNumbers(nums)"
      ],
      "metadata": {
        "colab": {
          "base_uri": "https://localhost:8080/"
        },
        "id": "cPbdY9ipUIOZ",
        "outputId": "111694b3-cbe6-4b2b-8851-dbe4213c8415"
      },
      "execution_count": null,
      "outputs": [
        {
          "output_type": "stream",
          "name": "stdout",
          "text": [
            "[4, 3, 2, -7, 8, 2, 3, 1]\n",
            "[4, 3, -2, -7, 8, 2, 3, 1]\n",
            "[4, -3, -2, -7, 8, 2, 3, 1]\n",
            "[4, -3, -2, -7, 8, 2, -3, 1]\n",
            "[4, -3, -2, -7, 8, 2, -3, -1]\n",
            "[4, -3, -2, -7, 8, 2, -3, -1]\n",
            "[4, -3, -2, -7, 8, 2, -3, -1]\n",
            "[-4, -3, -2, -7, 8, 2, -3, -1]\n"
          ]
        },
        {
          "output_type": "execute_result",
          "data": {
            "text/plain": [
              "[5, 6]"
            ]
          },
          "metadata": {},
          "execution_count": 397
        }
      ]
    },
    {
      "cell_type": "markdown",
      "source": [
        ""
      ],
      "metadata": {
        "id": "95L-h9HrYXbe"
      }
    },
    {
      "cell_type": "code",
      "source": [
        "nums = [1,7,3,6,5,6]\n",
        "# nums = [1]\n",
        "# nums = [1,2,3]\n",
        "# nums = [1,-1,2]\n"
      ],
      "metadata": {
        "id": "rXwmOqQfYgtr"
      },
      "execution_count": null,
      "outputs": []
    },
    {
      "cell_type": "code",
      "source": [
        "sum(nums[4:])\n",
        "# sum(nums[:4])"
      ],
      "metadata": {
        "colab": {
          "base_uri": "https://localhost:8080/"
        },
        "id": "i3rHEx7WaNFn",
        "outputId": "122265c1-d1b8-4dcb-814e-794fcfb9b699"
      },
      "execution_count": null,
      "outputs": [
        {
          "output_type": "execute_result",
          "data": {
            "text/plain": [
              "0"
            ]
          },
          "metadata": {},
          "execution_count": 57
        }
      ]
    },
    {
      "cell_type": "code",
      "source": [
        "# Discussion use left,right and switch\n",
        "class Solution(object):\n",
        "    def pivotIndex(self, nums):\n",
        "        # Time: O(n)\n",
        "        # Space: O(1)\n",
        "        left, right = 0, sum(nums)\n",
        "        for index, num in enumerate(nums):\n",
        "            right -= num\n",
        "            if left == right:\n",
        "                return index\n",
        "            left += num\n",
        "        return -1\n"
      ],
      "metadata": {
        "id": "gfRTM0IAdVoN"
      },
      "execution_count": null,
      "outputs": []
    },
    {
      "cell_type": "code",
      "source": [
        "# My solution for the right most\n",
        "class Solution:\n",
        "    def pivotIndex(self, nums):\n",
        "      m = len(nums)\n",
        "      if(m<2):\n",
        "        return -1\n",
        "      while m > 0:\n",
        "        if (sum(nums[:m-1]) == sum(nums[m:])):\n",
        "          return m-1\n",
        "        m -= 1\n",
        "      return -1"
      ],
      "metadata": {
        "id": "dCXQUEdtZEbU"
      },
      "execution_count": null,
      "outputs": []
    },
    {
      "cell_type": "code",
      "source": [
        "# My solution for the left most\n",
        "class Solution:\n",
        "    def pivotIndex(self, nums):\n",
        "      m = len(nums)\n",
        "      if(m<2):\n",
        "        return -1\n",
        "      for j in range(m):\n",
        "        if (sum(nums[:j+1]) == sum(nums[j:])):\n",
        "          return j\n",
        "      return -1"
      ],
      "metadata": {
        "id": "WLWPcST_bPpk"
      },
      "execution_count": null,
      "outputs": []
    },
    {
      "cell_type": "code",
      "source": [
        "x = Solution()\n",
        "x.pivotIndex(nums)"
      ],
      "metadata": {
        "colab": {
          "base_uri": "https://localhost:8080/"
        },
        "id": "GGZy8NQXYgCw",
        "outputId": "0dc080e8-f55b-4dcb-daa9-d639d83bd234"
      },
      "execution_count": null,
      "outputs": [
        {
          "output_type": "execute_result",
          "data": {
            "text/plain": [
              "3"
            ]
          },
          "metadata": {},
          "execution_count": 84
        }
      ]
    },
    {
      "cell_type": "code",
      "source": [
        ""
      ],
      "metadata": {
        "id": "JFlKU9XGYy6X"
      },
      "execution_count": null,
      "outputs": []
    },
    {
      "cell_type": "markdown",
      "source": [
        "# Divide and Conquer - Notes\n"
      ],
      "metadata": {
        "id": "Nv_-Lma4Tg4X"
      }
    },
    {
      "cell_type": "markdown",
      "source": [
        "Applications: \n",
        "- Binary Search\n",
        "- Merge Sort and Quick Sort\n",
        "- Median Finding\n",
        "- Min and Max Finding\n",
        "- Matrix Multiplication\n",
        "- Closest Pair problem\n",
        "- Finding peak an one-dimentional and two-dimentional arrays"
      ],
      "metadata": {
        "id": "qyTDqZOcTkr-"
      }
    },
    {
      "cell_type": "markdown",
      "source": [
        "# Divide and Conquer - Problems"
      ],
      "metadata": {
        "id": "hlh30LpHiqqk"
      }
    },
    {
      "cell_type": "markdown",
      "source": [
        "## 162 Find Peak Element - Medium\n"
      ],
      "metadata": {
        "id": "O5lVf5dMnN9z"
      }
    },
    {
      "cell_type": "code",
      "source": [
        "nums = [1,2,3,1]"
      ],
      "metadata": {
        "id": "LKYBndGwnVgr"
      },
      "execution_count": 73,
      "outputs": []
    },
    {
      "cell_type": "code",
      "source": [
        "# Discussion\n",
        "class Solution:\n",
        "    def findPeakElement(self, nums):\n",
        "        l, r = 0, len(nums)-1\n",
        "        while l <= r:\n",
        "            mid = l + (r-l)//2\n",
        "            if (mid-1<0 or nums[mid]>nums[mid-1]) and (mid+1>=len(nums) or nums[mid]>nums[mid+1]):\n",
        "                return mid\n",
        "            elif mid-1>=0 and nums[mid]<nums[mid-1]: # the opposite of the above \"if\" are these two \"elif\"\n",
        "                r = mid - 1\n",
        "            elif mid+1<len(nums) or nums[mid]<nums[mid+1]:\n",
        "                l = mid + 1\n",
        "        return l\n"
      ],
      "metadata": {
        "id": "zTiR7CSjnTrb"
      },
      "execution_count": 84,
      "outputs": []
    },
    {
      "cell_type": "code",
      "source": [
        "x = Solution()\n",
        "x.findPeakElement(arr)"
      ],
      "metadata": {
        "colab": {
          "base_uri": "https://localhost:8080/"
        },
        "id": "Sr_yJsaQnU4H",
        "outputId": "928768a4-c3f1-4d07-dc52-4d43fd2a5e00"
      },
      "execution_count": 85,
      "outputs": [
        {
          "output_type": "execute_result",
          "data": {
            "text/plain": [
              "1"
            ]
          },
          "metadata": {},
          "execution_count": 85
        }
      ]
    },
    {
      "cell_type": "markdown",
      "source": [
        "## 4 Median of Two Sorted Arrays - Hard\n"
      ],
      "metadata": {
        "id": "sOdfM5XyitS_"
      }
    },
    {
      "cell_type": "markdown",
      "source": [
        "We are given two sorted lists of size n. Give an algorithm for finding the median element in the union of the two lists.\n",
        "The overall run time complexity should be O(log (m+n)).\n",
        "\n"
      ],
      "metadata": {
        "id": "krjYlIMmjBrf"
      }
    },
    {
      "cell_type": "code",
      "source": [
        "nums1 = [1,3,4]\n",
        "nums2 = [2]"
      ],
      "metadata": {
        "id": "8xYorrsDi3p-"
      },
      "execution_count": 51,
      "outputs": []
    },
    {
      "cell_type": "code",
      "source": [
        "# My solution - O(n+m)\n",
        "class Solution:\n",
        "    def findMedianSortedArrays(self, nums1, nums2):\n",
        "      nums1.extend(nums2)\n",
        "      nums1.sort()\n",
        "      ans = 0\n",
        "      for j in range(len(nums1)):\n",
        "        ans += nums1[j]\n",
        "      return ans/len(nums1)"
      ],
      "metadata": {
        "id": "5rVTxqQpir4f"
      },
      "execution_count": 52,
      "outputs": []
    },
    {
      "cell_type": "code",
      "source": [
        "x = Solution()\n",
        "x.findMedianSortedArrays(nums1,nums2)"
      ],
      "metadata": {
        "colab": {
          "base_uri": "https://localhost:8080/"
        },
        "id": "47JVu_H9i29L",
        "outputId": "5eec195a-fe58-4451-a60c-1431384564d3"
      },
      "execution_count": 53,
      "outputs": [
        {
          "output_type": "execute_result",
          "data": {
            "text/plain": [
              "2.5"
            ]
          },
          "metadata": {},
          "execution_count": 53
        }
      ]
    },
    {
      "cell_type": "code",
      "source": [
        ""
      ],
      "metadata": {
        "id": "5vWMwz73jXoe"
      },
      "execution_count": 50,
      "outputs": []
    }
  ]
}