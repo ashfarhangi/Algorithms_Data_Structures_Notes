{
  "nbformat": 4,
  "nbformat_minor": 0,
  "metadata": {
    "colab": {
      "name": "Python_OBB_One_Notebook_for_all.ipynb",
      "provenance": [],
      "collapsed_sections": [],
      "authorship_tag": "ABX9TyOpysF2RDz5OxE3waWVLiHS",
      "include_colab_link": true
    },
    "kernelspec": {
      "name": "python3",
      "display_name": "Python 3"
    }
  },
  "cells": [
    {
      "cell_type": "markdown",
      "metadata": {
        "id": "view-in-github",
        "colab_type": "text"
      },
      "source": [
        "<a href=\"https://colab.research.google.com/github/ashfarhangi/Data-Structures-and-Algorithms/blob/master/code/Python_OBB_One_Notebook_for_all.ipynb\" target=\"_parent\"><img src=\"https://colab.research.google.com/assets/colab-badge.svg\" alt=\"Open In Colab\"/></a>"
      ]
    },
    {
      "cell_type": "markdown",
      "metadata": {
        "id": "3F88ZdYL-xPS"
      },
      "source": [
        "In this notebook, we take a look at the object orientated programming (obb) in Python environment.\n"
      ]
    },
    {
      "cell_type": "markdown",
      "metadata": {
        "id": "s6Efq5ZJqp3f"
      },
      "source": [
        "**Why should you make your code modular, define classes and function inside them?**\n",
        "1. If you are doing anything productive, or plan to sell your code to a company, you better make your code modular\n",
        "1.   When prevailing conditions change, it no longer requires refitting the whole machine. Rather, we can just change out a module\n",
        "2.   Same mindset is applied in every other engineering field like computer engineering\n",
        "\n"
      ]
    },
    {
      "cell_type": "markdown",
      "metadata": {
        "id": "4-pwqu67oJTs"
      },
      "source": [
        "Best Practice Rule of Thumb:"
      ]
    },
    {
      "cell_type": "markdown",
      "metadata": {
        "id": "y7TAHGNAoMuL"
      },
      "source": [
        "\n",
        "\n",
        "1.   Class Names should be CapWord (Camel) class F1Car:\n",
        "2.   functions should be lowercase seperate by underscore for readability\n",
        "\n"
      ]
    },
    {
      "cell_type": "code",
      "metadata": {
        "id": "3PiuwzbDqKt0"
      },
      "source": [
        ""
      ],
      "execution_count": null,
      "outputs": []
    },
    {
      "cell_type": "code",
      "metadata": {
        "id": "a3giAhMk-urt"
      },
      "source": [
        "class f1car:\n",
        "  pass"
      ],
      "execution_count": null,
      "outputs": []
    },
    {
      "cell_type": "code",
      "metadata": {
        "id": "FMzAmLFF-90f"
      },
      "source": [
        "a = f1car()\n",
        "b = f1car()"
      ],
      "execution_count": null,
      "outputs": []
    },
    {
      "cell_type": "markdown",
      "metadata": {
        "id": "4jDVBBCb_AZl"
      },
      "source": [
        "Now lets put a function that runs when the instance was created"
      ]
    },
    {
      "cell_type": "code",
      "metadata": {
        "id": "0NlNBCJc_OKg"
      },
      "source": [
        "class f1car:\n",
        "  def __init__(self):\n",
        "    print('function of this instance (it self)')"
      ],
      "execution_count": null,
      "outputs": []
    },
    {
      "cell_type": "markdown",
      "metadata": {
        "id": "jP2oA0h0_mfh"
      },
      "source": [
        "The self parameter is to be specific for every instance. Looking at it as \"it self\" not other instances is a simple way to describe it.\n",
        "\n",
        "\n",
        "*   Remember to put self inside the () of each function\n",
        "*   List item\n",
        "\n"
      ]
    },
    {
      "cell_type": "code",
      "metadata": {
        "id": "bg2zlBmx_ZJi",
        "outputId": "83877719-0caf-46ef-97c9-b4cb8e0dcc06",
        "colab": {
          "base_uri": "https://localhost:8080/"
        }
      },
      "source": [
        "a = f1car()\n",
        "b = f1car()"
      ],
      "execution_count": null,
      "outputs": [
        {
          "output_type": "stream",
          "text": [
            "function of this instance (it self)\n",
            "function of this instance (it self)\n"
          ],
          "name": "stdout"
        }
      ]
    },
    {
      "cell_type": "code",
      "metadata": {
        "id": "qqe0TzU2_cfE"
      },
      "source": [
        "class f1car:\n",
        "  def __init__(self):\n",
        "    print('function of this instance (it self)')\n",
        "  def drive(self):\n",
        "    print(self,'started driving')"
      ],
      "execution_count": null,
      "outputs": []
    },
    {
      "cell_type": "code",
      "metadata": {
        "id": "FUJ89aQ2ANt5",
        "outputId": "6324d05d-bd2a-424e-d99b-db2580a47b5b",
        "colab": {
          "base_uri": "https://localhost:8080/"
        }
      },
      "source": [
        "a = f1car()\n",
        "b = f1car()\n",
        "a.drive()"
      ],
      "execution_count": null,
      "outputs": [
        {
          "output_type": "stream",
          "text": [
            "function of this instance (it self)\n",
            "function of this instance (it self)\n",
            "<__main__.f1car object at 0x7f2fcaa65c18> started driving\n"
          ],
          "name": "stdout"
        }
      ]
    },
    {
      "cell_type": "markdown",
      "metadata": {
        "id": "xSHiDwMUAYdn"
      },
      "source": [
        "As you can see, self is actually the instance (object of the class)."
      ]
    },
    {
      "cell_type": "code",
      "metadata": {
        "id": "38Lc1h0PArz3"
      },
      "source": [
        "import math\n",
        "class f1car:\n",
        "  def __init__(self,x,y):\n",
        "    self.x = x\n",
        "    self.y = y\n",
        "\n",
        "\n",
        "  def distance(self,othercar):\n",
        "    diffx = self.x - othercar.x\n",
        "    diffy = self.y - othercar.y\n",
        "    distance = math.sqrt(diffx**2 +diffy**2)\n",
        "    return distance"
      ],
      "execution_count": null,
      "outputs": []
    },
    {
      "cell_type": "code",
      "metadata": {
        "id": "d01xTV9oBmYI",
        "outputId": "70effaab-6929-4584-9869-033be83cd97a",
        "colab": {
          "base_uri": "https://localhost:8080/"
        }
      },
      "source": [
        "a = f1car(0,0)\n",
        "b = f1car(3,4)\n",
        "a.distance(b)"
      ],
      "execution_count": null,
      "outputs": [
        {
          "output_type": "execute_result",
          "data": {
            "text/plain": [
              "5.0"
            ]
          },
          "metadata": {
            "tags": []
          },
          "execution_count": 24
        }
      ]
    },
    {
      "cell_type": "code",
      "metadata": {
        "id": "RXcPxqMYaSP8"
      },
      "source": [
        ""
      ],
      "execution_count": null,
      "outputs": []
    },
    {
      "cell_type": "markdown",
      "metadata": {
        "id": "j9iwWlpGZBlR"
      },
      "source": [
        "What is the difference between a global variable and a class variable(attribute)\n",
        "global variable can be accessed by multiple classes (define once use it for all classes (hard to manage if classes change that)\n",
        "class attribute are defined once and can be used by multiple instances \n",
        "instance variables (self.var1 )can only by the intance itself\n",
        "\n",
        "The use of class method @method cls is the class method that can be used by its subclasses (rare) (not associated with a particular instance of the class). like blueprints methods  \n",
        "\n",
        "\n"
      ]
    },
    {
      "cell_type": "code",
      "metadata": {
        "id": "DToaJnZWYwXs"
      },
      "source": [
        "# Global vari \n",
        "class car:\n",
        "  # global brakeValue \n",
        "  brakeValue1= 2\n",
        "  def __init__(self,speed):\n",
        "    self.speed = speed\n",
        "    \n",
        "  def braking(self):\n",
        "    print('Starting Speed: ',self.speed)\n",
        "    for j in range(4):\n",
        "      self.speed =self.speed - self.brakeValue1\n",
        "      print(self.speed)\n",
        "\n",
        "    return print('Final Speed',self.speed)\n"
      ],
      "execution_count": null,
      "outputs": []
    },
    {
      "cell_type": "code",
      "metadata": {
        "id": "46tR_dooPwPD"
      },
      "source": [
        "  class aclass(object):\n",
        "      # This is a class attribute.\n",
        "      somevar1 = 'a value'\n",
        "\n",
        "      def __init__(self):\n",
        "          # this is an instance variable.\n",
        "          self.somevar2 = 'another value'\n",
        "# IN @classmethod we don't need an instance at all, we call the class method as if it was a static function\n",
        "      @classmethod\n",
        "      def usefulfunc(cls, *args):\n",
        "          # This is a class method.\n",
        "          print(cls.somevar1) # would print 'a value'\n",
        "\n",
        "      def instancefunc(self, *args):\n",
        "          # this is an instance method.\n",
        "          print(self.somevar2) # would print 'another value'\n",
        "\n",
        "  aclass.usefulfunc()\n",
        "  inst = aclass()\n",
        "  inst.instancefunc()\n"
      ],
      "execution_count": null,
      "outputs": []
    },
    {
      "cell_type": "code",
      "metadata": {
        "id": "mn2mpcqnYvpB"
      },
      "source": [
        ""
      ],
      "execution_count": null,
      "outputs": []
    },
    {
      "cell_type": "markdown",
      "metadata": {
        "id": "i5zHEwXLPwsA"
      },
      "source": [
        "## Exercise\n"
      ]
    },
    {
      "cell_type": "markdown",
      "metadata": {
        "id": "ZyuPiYzHP2RL"
      },
      "source": [
        "Develop a class for \"brake\" system of a car that slowly lowers the speed of the car"
      ]
    },
    {
      "cell_type": "code",
      "metadata": {
        "id": "RZsQ6-P5P1nO"
      },
      "source": [
        "class car:\n",
        "  # global brakeValue \n",
        "  brakeValue1= 2\n",
        "  def __init__(self,speed):\n",
        "    self.speed = speed\n",
        "    \n",
        "  def braking(self):\n",
        "    print('Starting Speed: ',self.speed)\n",
        "    for j in range(4):\n",
        "      self.speed =self.speed - self.brakeValue1\n",
        "      print(self.speed)\n",
        "\n",
        "    return print('Final Speed',self.speed)\n"
      ],
      "execution_count": null,
      "outputs": []
    },
    {
      "cell_type": "code",
      "metadata": {
        "id": "e27WfqIKRnKo",
        "outputId": "1e16ad8d-758b-4edf-8d4c-fada5ba5a8ee",
        "colab": {
          "base_uri": "https://localhost:8080/"
        }
      },
      "source": [
        "a = car(50)\n",
        "car.brakeValue1 = 2\n",
        "a.brakeValue1= 3\n",
        "a.brakeValue1\n",
        "b = car(30)\n",
        "b.brakeValue1\n",
        "a.braking()"
      ],
      "execution_count": null,
      "outputs": [
        {
          "output_type": "stream",
          "text": [
            "Starting Speed:  50\n",
            "47\n",
            "44\n",
            "41\n",
            "38\n",
            "Final Speed 38\n"
          ],
          "name": "stdout"
        }
      ]
    },
    {
      "cell_type": "code",
      "metadata": {
        "id": "7kx8PXNcaUoT"
      },
      "source": [
        "class MyClass:\n",
        "    def method(self):\n",
        "        return 'instance method called', self\n",
        "\n",
        "    @classmethod\n",
        "    def classmethod(cls):\n",
        "        return 'class method called', cls\n",
        "\n",
        "    @staticmethod\n",
        "    def staticmethod():\n",
        "        return 'static method called'\n"
      ],
      "execution_count": null,
      "outputs": []
    },
    {
      "cell_type": "markdown",
      "metadata": {
        "id": "UDm4OEEobXlX"
      },
      "source": [
        "# ُSummary \n",
        "Static and class methods communicate and (to a certain degree) enforce developer intent about class design. This can have maintenance benefits.\n",
        "\n"
      ]
    },
    {
      "cell_type": "markdown",
      "metadata": {
        "id": "fY1LALaNaQCk"
      },
      "source": [
        "# Instance Methods\n",
        "The first method on MyClass, called method, is a regular instance method. That’s the basic, no-frills method type you’ll use most of the time. You can see the method takes one parameter, self, which points to an instance of MyClass when the method is called (but of course instance methods can accept more than just one parameter).\n",
        "\n"
      ]
    },
    {
      "cell_type": "markdown",
      "metadata": {
        "id": "i3iDAexmar8_"
      },
      "source": [
        "# Class Methods\n",
        "Let’s compare that to the second method, MyClass.classmethod. I marked this method with a @classmethod decorator to flag it as a class method.\n",
        "\n",
        "Instead of accepting a self parameter, class methods take a cls parameter that points to the class—and not the object instance—when the method is called."
      ]
    },
    {
      "cell_type": "markdown",
      "metadata": {
        "id": "aqlVEhShawpG"
      },
      "source": [
        "#Static Methods\n",
        "The third method, MyClass.staticmethod was marked with a @staticmethod decorator to flag it as a static method.\n",
        "\n",
        "This type of method takes neither a self nor a cls parameter (but of course it’s free to accept an arbitrary number of other parameters).\n",
        "\n"
      ]
    },
    {
      "cell_type": "markdown",
      "metadata": {
        "id": "gfhG-O4fqN5K"
      },
      "source": [
        "# Best Practices:"
      ]
    },
    {
      "cell_type": "markdown",
      "metadata": {
        "id": "PG1eOsD6qSoH"
      },
      "source": [
        "Make your code modular for productivity "
      ]
    },
    {
      "cell_type": "code",
      "metadata": {
        "id": "6WQdqk1AqP9_"
      },
      "source": [
        "%load_ext autoreload\n",
        "%autoreload\n"
      ],
      "execution_count": null,
      "outputs": []
    },
    {
      "cell_type": "markdown",
      "metadata": {
        "id": "jZ1Hw53BQoix"
      },
      "source": [
        "## References"
      ]
    },
    {
      "cell_type": "markdown",
      "metadata": {
        "id": "Pefx9F8MQwrr"
      },
      "source": [
        "\n",
        "\n",
        "1.   https://www.reddit.com/r/learnpython/comments/1cpu7x/explain_classes_init_and_self_like_im_five/\n",
        "2.   https://docs.python.org/3/tutorial/classes.html\n",
        "3. https://realpython.com/instance-class-and-static-methods-demystified/\n",
        "\n"
      ]
    }
  ]
}